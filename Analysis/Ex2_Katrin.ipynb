{
 "cells": [
  {
   "cell_type": "markdown",
   "metadata": {},
   "source": [
    "## Experiment 2 - influence of percentage visited per user on nDCG"
   ]
  },
  {
   "cell_type": "code",
   "execution_count": 1,
   "metadata": {},
   "outputs": [],
   "source": [
    "import pandas as pd\n",
    "import numpy as np\n",
    "import matplotlib.pyplot as plt\n",
    "import seaborn as sns\n",
    "from pandas.plotting import parallel_coordinates\n",
    "from sklearn.decomposition import PCA\n",
    "from sklearn.preprocessing import StandardScaler\n",
    "from scipy.stats import norm\n",
    "from scipy import stats"
   ]
  },
  {
   "cell_type": "code",
   "execution_count": 6,
   "metadata": {},
   "outputs": [],
   "source": [
    "Path = \"../datasets/result/\"\n",
    "ds = \"gowalla\"\n",
    "alg = \"STACP\"\n",
    "df_100 = pd.read_csv(Path+\"result_top_20_100.txt\", sep = \"\\t\", header = None)\n",
    "df_100.columns = [\"cnt\", \"uid\", \"prec\", \"rec\", \"ndcg\", \"map\"]\n",
    "df_80 = pd.read_csv(Path+\"result_top_20_80.txt\", sep = \"\\t\", header = None)\n",
    "df_80.columns = [\"cnt\", \"uid\", \"prec\", \"rec\", \"ndcg\", \"map\"]\n",
    "df_60 = pd.read_csv(Path+\"result_top_20_60.txt\", sep = \"\\t\", header = None)\n",
    "df_60.columns = [\"cnt\", \"uid\", \"prec\", \"rec\", \"ndcg\", \"map\"]\n",
    "df_40 = pd.read_csv(Path+\"result_top_20_40.txt\", sep = \"\\t\", header = None)\n",
    "df_40.columns = [\"cnt\", \"uid\", \"prec\", \"rec\", \"ndcg\", \"map\"]\n",
    "\n",
    "df_100_noctx = pd.read_csv(Path+\"result_top_20_100_noctx.txt\", sep = \"\\t\", header = None)\n",
    "df_100_noctx.columns = [\"cnt\", \"uid\", \"prec\", \"rec\", \"ndcg\", \"map\"]\n",
    "df_80_noctx = pd.read_csv(Path+\"result_top_20_80_noctx.txt\", sep = \"\\t\", header = None)\n",
    "df_80_noctx.columns = [\"cnt\", \"uid\", \"prec\", \"rec\", \"ndcg\", \"map\"]\n",
    "df_60_noctx = pd.read_csv(Path+\"result_top_20_60_noctx.txt\", sep = \"\\t\", header = None)\n",
    "df_60_noctx.columns = [\"cnt\", \"uid\", \"prec\", \"rec\", \"ndcg\", \"map\"]\n",
    "df_40_noctx = pd.read_csv(Path+\"result_top_20_40_noctx.txt\", sep = \"\\t\", header = None)\n",
    "df_40_noctx.columns = [\"cnt\", \"uid\", \"prec\", \"rec\", \"ndcg\", \"map\"]\n",
    "\n",
    "df_100_noTC = pd.read_csv(Path+\"result_top_20_100_noTC.txt\", sep = \"\\t\", header = None)\n",
    "df_100_noTC.columns = [\"cnt\", \"uid\", \"prec\", \"rec\", \"ndcg\", \"map\"]\n",
    "df_80_noTC = pd.read_csv(Path+\"result_top_20_80_noTC.txt\", sep = \"\\t\", header = None)\n",
    "df_80_noTC.columns = [\"cnt\", \"uid\", \"prec\", \"rec\", \"ndcg\", \"map\"]\n",
    "df_60_noTC = pd.read_csv(Path+\"result_top_20_60_noTC.txt\", sep = \"\\t\", header = None)\n",
    "df_60_noTC.columns = [\"cnt\", \"uid\", \"prec\", \"rec\", \"ndcg\", \"map\"]\n",
    "df_40_noTC = pd.read_csv(Path+\"result_top_20_40_noTC.txt\", sep = \"\\t\", header = None)\n",
    "df_40_noTC.columns = [\"cnt\", \"uid\", \"prec\", \"rec\", \"ndcg\", \"map\"]\n",
    "\n",
    "df_100_lrt = pd.read_csv(Path+\"result_top_20_100_lrt.txt\", sep = \"\\t\", header = None)\n",
    "df_100_lrt.columns = [\"cnt\", \"uid\", \"prec\", \"rec\", \"ndcg\"]\n",
    "df_80_lrt = pd.read_csv(Path+\"result_top_20_80_lrt.txt\", sep = \"\\t\", header = None)\n",
    "df_80_lrt.columns = [\"cnt\", \"uid\", \"prec\", \"rec\", \"ndcg\", \"map\"]\n",
    "df_60_lrt = pd.read_csv(Path+\"result_top_20_60_lrt.txt\", sep = \"\\t\", header = None)\n",
    "df_60_lrt.columns = [\"cnt\", \"uid\", \"prec\", \"rec\", \"ndcg\", \"map\"]\n",
    "df_40_lrt = pd.read_csv(Path+\"result_top_20_40_lrt.txt\", sep = \"\\t\", header = None)\n",
    "df_40_lrt.columns = [\"cnt\", \"uid\", \"prec\", \"rec\", \"ndcg\", \"map\"]"
   ]
  },
  {
   "cell_type": "code",
   "execution_count": 7,
   "metadata": {},
   "outputs": [],
   "source": [
    "ex2 = pd.DataFrame(columns = [\"visited\",\"STACP-nDCG\", \"STACP-map\", \"STACP-rec\", \"STACP-prec\",\"STACP-noTC-nDCG\", \"STACP-noTC-map\", \"STACP-noTC-rec\", \"STACP-noTC-prec\",\"STACP-noCTX-nDCG\", \"STACP-noCTX-map\", \"STACP-noCTX-rec\", \"STACP-noCTX-prec\",\"LRT-nDCG\", \"LRT-map\", \"LRT-rec\", \"LRT-prec\"]) \n",
    "ex2 = ex2.append({'visited':40,'STACP-nDCG':df_40[\"ndcg\"].mean(),  'STACP-map':df_40[\"map\"].mean(),  'STACP-rec':df_40[\"rec\"].mean(),  'STACP-prec':df_40[\"prec\"].mean(),'STACP-noCTX-nDCG':df_40_noctx[\"ndcg\"].mean(),  'STACP-noCTX-map':df_40[\"map\"].mean(),  'STACP-noCTX-rec':df_40[\"rec\"].mean(),  'STACP-noCTX-prec':df_40[\"prec\"].mean(),'STACP-noTC-nDCG':df_40_noTC[\"ndcg\"].mean(),  'STACP-noTC-map':df_40[\"map\"].mean(),  'STACP-noTC-rec':df_40[\"rec\"].mean(),  'STACP-noTC-prec':df_40[\"prec\"].mean(),'LRT-nDCG':df_40_lrt[\"ndcg\"].mean(),  'LRT-map':df_40_lrt[\"map\"].mean(),  'LRT-rec':df_40_lrt[\"rec\"].mean(),  'LRT-prec':df_40_lrt[\"prec\"].mean()}, ignore_index=True)\n",
    "ex2 = ex2.append({'visited':60,'STACP-nDCG':df_60[\"ndcg\"].mean(),  'STACP-map':df_60[\"map\"].mean(),  'STACP-rec':df_60[\"rec\"].mean(),  'STACP-prec':df_60[\"prec\"].mean(),'STACP-noCTX-nDCG':df_60_noctx[\"ndcg\"].mean(),  'STACP-noCTX-map':df_60[\"map\"].mean(),  'STACP-noCTX-rec':df_60[\"rec\"].mean(),  'STACP-noCTX-prec':df_60[\"prec\"].mean(),'STACP-noTC-nDCG':df_60_noTC[\"ndcg\"].mean(),  'STACP-noTC-map':df_60[\"map\"].mean(),  'STACP-noTC-rec':df_60[\"rec\"].mean(),  'STACP-noTC-prec':df_60[\"prec\"].mean(),'LRT-nDCG':df_60_lrt[\"ndcg\"].mean(),  'LRT-map':df_60_lrt[\"map\"].mean(),  'LRT-rec':df_60_lrt[\"rec\"].mean(),  'LRT-prec':df_60_lrt[\"prec\"].mean()}, ignore_index=True)\n",
    "ex2 = ex2.append({'visited':80,'STACP-nDCG':df_80[\"ndcg\"].mean(),  'STACP-map':df_80[\"map\"].mean(),  'STACP-rec':df_80[\"rec\"].mean(),  'STACP-prec':df_80[\"prec\"].mean(),'STACP-noCTX-nDCG':df_80_noctx[\"ndcg\"].mean(),  'STACP-noCTX-map':df_80[\"map\"].mean(),  'STACP-noCTX-rec':df_80[\"rec\"].mean(),  'STACP-noCTX-prec':df_80[\"prec\"].mean(),'STACP-noTC-nDCG':df_80_noTC[\"ndcg\"].mean(),  'STACP-noTC-map':df_80[\"map\"].mean(),  'STACP-noTC-rec':df_80[\"rec\"].mean(),  'STACP-noTC-prec':df_80[\"prec\"].mean(),'LRT-nDCG':df_80_lrt[\"ndcg\"].mean(),  'LRT-map':df_80_lrt[\"map\"].mean(),  'LRT-rec':df_80_lrt[\"rec\"].mean(),  'LRT-prec':df_80_lrt[\"prec\"].mean()}, ignore_index=True)\n",
    "ex2 = ex2.append({'visited':100,'STACP-nDCG':df_100[\"ndcg\"].mean(),  'STACP-map':df_100[\"map\"].mean(),  'STACP-rec':df_100[\"rec\"].mean(),  'STACP-prec':df_100[\"prec\"].mean(),'STACP-noCTX-nDCG':df_100_noctx[\"ndcg\"].mean(),  'STACP-noCTX-rec':df_100[\"rec\"].mean(),'STACP-noCTX-map':df_100[\"map\"].mean(),   'STACP-noCTX-prec':df_100[\"prec\"].mean(),'LRT-nDCG':df_100_lrt[\"ndcg\"].mean(), 'LRT-rec':df_100_lrt[\"rec\"].mean(),  'LRT-prec':df_100_lrt[\"prec\"].mean(),'STACP-noTC-nDCG':df_100_noTC[\"ndcg\"].mean(),  'STACP-noTC-map':df_100[\"map\"].mean(),  'STACP-noTC-rec':df_100[\"rec\"].mean(),  'STACP-noTC-prec':df_100[\"prec\"].mean()}, ignore_index=True)\n"
   ]
  },
  {
   "cell_type": "code",
   "execution_count": 8,
   "metadata": {},
   "outputs": [
    {
     "data": {
      "image/png": "[encoded data removed]",
      "text/plain": [
       "<Figure size 504x360 with 1 Axes>"
      ]
     },
     "metadata": {
      "needs_background": "light"
     },
     "output_type": "display_data"
    }
   ],
   "source": [
    "# create data \n",
    "x = np.arange(4) \n",
    "y1 = ex2[\"STACP-nDCG\"]\n",
    "y2 = ex2[\"STACP-noTC-nDCG\"]\n",
    "y3 = ex2[\"STACP-noCTX-nDCG\"]\n",
    "y4 = ex2[\"LRT-nDCG\"]\n",
    "width = 0.1\n",
    "  \n",
    "# plot data in grouped manner of bar type \n",
    "plt.figure(figsize=(7,5));\n",
    "plt.bar(x-0.15, y4, width, color='red') \n",
    "plt.bar(x+0.05, y2, width, color='orange') \n",
    "plt.bar(x-0.05, y3, width, color='green') \n",
    "plt.bar(x+0.15, y1, width, color='cyan') \n",
    "\n",
    "#plt.bar(x+0.15, y4, width, color='red') \n",
    "\n",
    "plt.xticks(x, ['40', '60','80', '100']) \n",
    "plt.legend([\"LRT\", \"STACP-noTC\", \"STACP-noCTX\", \"STACP\"], bbox_to_anchor=(1, 1.26),borderaxespad=0) \n",
    "plt.xlabel(\"Percentage of POIs each user has visited\") \n",
    "plt.ylabel(\"nDCG@20\") \n",
    "plt.grid(axis = 'y')\n",
    "plt.title(\"nDCG of different algorithms on sparcity levels\", loc = \"left\")\n",
    "plt.show() "
   ]
  },
  {
   "cell_type": "code",
   "execution_count": 9,
   "metadata": {},
   "outputs": [
    {
     "name": "stderr",
     "output_type": "stream",
     "text": [
      "C:\\Users\\katri\\anaconda3\\lib\\site-packages\\numpy\\lib\\stride_tricks.py:256: VisibleDeprecationWarning: Creating an ndarray from ragged nested sequences (which is a list-or-tuple of lists-or-tuples-or ndarrays with different lengths or shapes) is deprecated. If you meant to do this, you must specify 'dtype=object' when creating the ndarray\n",
      "  args = [np.array(_m, copy=False, subok=subok) for _m in args]\n",
      "C:\\Users\\katri\\anaconda3\\lib\\site-packages\\numpy\\core\\_asarray.py:83: VisibleDeprecationWarning: Creating an ndarray from ragged nested sequences (which is a list-or-tuple of lists-or-tuples-or ndarrays with different lengths or shapes) is deprecated. If you meant to do this, you must specify 'dtype=object' when creating the ndarray\n",
      "  return array(a, dtype, copy=False, order=order)\n"
     ]
    },
    {
     "data": {
      "image/png": "[encoded data removed]",
      "text/plain": [
       "<Figure size 432x288 with 1 Axes>"
      ]
     },
     "metadata": {
      "needs_background": "light"
     },
     "output_type": "display_data"
    }
   ],
   "source": [
    "# create data \n",
    "\n",
    "#width = 0.5\n",
    "  \n",
    "# plot data in grouped manner of bar type \n",
    "#plt.figure(figsize=(7,5));\n",
    "plt.bar([\"nDCG original\", \"nDCG reproduced\", \"mAP reproduced\"], [0.0211, ex2.loc[ex2[\"visited\"]==100,\"STACP-nDCG\"],[ex2.loc[ex2[\"visited\"]==100,\"STACP-map\"]]], width) \n",
    "# plt.bar(x+0.05, y2, width, color='orange') \n",
    "# plt.bar(x-0.05, y3, width, color='green') \n",
    "# plt.bar(x+0.15, y1, width, color='cyan') \n",
    "\n",
    "# #plt.bar(x+0.15, y4, width, color='red') \n",
    "\n",
    "# plt.xticks(x, ['40', '60','80', '100']) \n",
    "# plt.legend([\"LRT\", \"STACP-noTC\", \"STACP-noCTX\", \"STACP\"], bbox_to_anchor=(1, 1.26),borderaxespad=0) \n",
    "# plt.xlabel(\"Percentage of POIs each user has visited\") \n",
    "# plt.ylabel(\"nDCG@20\") \n",
    "# plt.grid(axis = 'y')\n",
    "#plt.title(\"nDCG@20 and mAP@20 compared for top 20 recommendation\", loc = \"left\")\n",
    "plt.show() "
   ]
  },
  {
   "cell_type": "code",
   "execution_count": 20,
   "metadata": {},
   "outputs": [
    {
     "name": "stdout",
     "output_type": "stream",
     "text": [
      "Ttest_indResult(statistic=-14.618351548227958, pvalue=5.897044944854472e-48)\n",
      "Ttest_indResult(statistic=-18.80107987255432, pvalue=1.1394417774071094e-77)\n",
      "Ttest_indResult(statistic=-15.41019553922838, pvalue=4.858756885405661e-53)\n",
      "Ttest_indResult(statistic=-18.370394747991398, pvalue=2.749253651827731e-74)\n",
      "Ttest_indResult(statistic=-15.495325117289779, pvalue=1.332795470916554e-53)\n",
      "Ttest_indResult(statistic=-18.53270961579624, pvalue=1.48945655538159e-75)\n",
      "Ttest_indResult(statistic=-16.063777121055264, pvalue=1.987663171295545e-57)\n",
      "Ttest_indResult(statistic=-20.128856414862277, pvalue=1.4782668306522937e-88)\n"
     ]
    }
   ],
   "source": [
    "print(stats.ttest_ind(df_40_noTC[\"rec\"], df_40[\"rec\"]))\n",
    "print(stats.ttest_ind(df_40_noctx[\"rec\"], df_40[\"rec\"]))\n",
    "\n",
    "print(stats.ttest_ind(df_60_noTC[\"rec\"], df_60[\"rec\"]))\n",
    "print(stats.ttest_ind(df_60_noctx[\"rec\"], df_60[\"rec\"]))\n",
    "\n",
    "print(stats.ttest_ind(df_80_noTC[\"rec\"], df_80[\"rec\"]))\n",
    "print(stats.ttest_ind(df_80_noctx[\"rec\"], df_80[\"rec\"]))\n",
    "\n",
    "print(stats.ttest_ind(df_100_noTC[\"rec\"], df_100[\"rec\"]))\n",
    "print(stats.ttest_ind(df_100_noctx[\"rec\"], df_100[\"rec\"]))\n"
   ]
  },
  {
   "cell_type": "code",
   "execution_count": 12,
   "metadata": {},
   "outputs": [
    {
     "data": {
      "text/plain": [
       "cnt     2813.500000\n",
       "uid     2813.500000\n",
       "prec       0.019545\n",
       "rec        0.032579\n",
       "ndcg       0.017435\n",
       "dtype: float64"
      ]
     },
     "execution_count": 12,
     "metadata": {},
     "output_type": "execute_result"
    }
   ],
   "source": [
    "df_100_lrt.mean()"
   ]
  },
  {
   "cell_type": "code",
   "execution_count": null,
   "metadata": {},
   "outputs": [],
   "source": []
  }
 ],
 "metadata": {
  "kernelspec": {
   "display_name": "Python 3",
   "language": "python",
   "name": "python3"
  },
  "language_info": {
   "codemirror_mode": {
    "name": "ipython",
    "version": 3
   },
   "file_extension": ".py",
   "mimetype": "text/x-python",
   "name": "python",
   "nbconvert_exporter": "python",
   "pygments_lexer": "ipython3",
   "version": "3.8.5"
  }
 },
 "nbformat": 4,
 "nbformat_minor": 4
}
