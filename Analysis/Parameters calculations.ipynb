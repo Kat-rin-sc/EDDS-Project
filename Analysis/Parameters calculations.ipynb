{
 "cells": [
  {
   "cell_type": "code",
   "execution_count": 68,
   "metadata": {},
   "outputs": [],
   "source": [
    "import pandas as pd\n",
    "import numpy as np\n",
    "\n",
    "df = pd.read_csv('parameters.txt', sep='\\t')\n",
    "\n",
    "Precision_d=df['Precision_d']\n",
    "Precision_alpha=df['Precision_alpha']\n",
    "Precision_alpha=Precision_alpha.iloc[0:5]\n",
    "\n",
    "Precision_lambda=df['Precision_lambda']\n",
    "\n",
    "Recall_d=df['Recall_d']\n",
    "Recall_alpha=df['Recall_alpha']\n",
    "Recall_alpha=Recall_alpha.iloc[0:5]\n",
    "\n",
    "Recall_lambda=df['Recall_lambda']\n",
    "\n",
    "alpha=df['alpha']\n",
    "alpha=alpha.iloc[0:5]\n",
    "\n",
    "d=df['d']\n",
    "lambada=df['lambada']\n"
   ]
  },
  {
   "cell_type": "code",
   "execution_count": 69,
   "metadata": {},
   "outputs": [],
   "source": [
    "import pandas as pd\n",
    "import numpy as np\n",
    "df = pd.read_table('test.txt', delim_whitespace=True, names=('No1', 'No2', 'Precision','Recall','NDCG'),\n",
    "                   dtype={'No1': np.int64, 'No2': np.int64, 'Precision': np.float64, 'Recall': np.float64,'NDCG': np.float64})\n"
   ]
  },
  {
   "cell_type": "code",
   "execution_count": 70,
   "metadata": {},
   "outputs": [
    {
     "data": {
      "text/plain": [
       "No1          2813.500000\n",
       "No2          2813.500000\n",
       "Precision       0.038308\n",
       "Recall          0.039988\n",
       "NDCG            0.020737\n",
       "dtype: float64"
      ]
     },
     "execution_count": 70,
     "metadata": {},
     "output_type": "execute_result"
    }
   ],
   "source": [
    "df.mean()"
   ]
  },
  {
   "cell_type": "code",
   "execution_count": 71,
   "metadata": {
    "scrolled": true
   },
   "outputs": [
    {
     "data": {
      "text/plain": [
       "<Figure size 432x288 with 0 Axes>"
      ]
     },
     "metadata": {},
     "output_type": "display_data"
    }
   ],
   "source": [
    "import matplotlib.pyplot as plt\n",
    "def multiply(lista):\n",
    "    i=0.01\n",
    "    return [0.01*i for i in lista]\n",
    "\n",
    "Precision_d=multiply(Precision_d)\n",
    "Precision_alpha=multiply(Precision_alpha)\n",
    "Precision_lambda=multiply(Precision_lambda)\n",
    "Recall_d=multiply(Recall_d)\n",
    "Recall_alpha=multiply(Recall_alpha)\n",
    "Recall_lambda=multiply(Recall_lambda)\n",
    "\n",
    "\n",
    "import matplotlib.pyplot as plt\n",
    "\n",
    "\n",
    "plt.scatter(d,Precision_d)\n",
    "plt.plot(d,Precision_d)\n",
    "plt.xlabel(\"d\")\n",
    "plt.ylabel(\"Precision@20\")\n",
    "plt.savefig('1.png')\n",
    "plt.clf()\n",
    "\n",
    "plt.scatter(d,Recall_d)\n",
    "plt.plot(d,Recall_d)\n",
    "plt.xlabel(\"d\")\n",
    "plt.ylabel(\"Recall@20\")\n",
    "plt.savefig('2.png')\n",
    "plt.clf()\n",
    "\n",
    "\n",
    "\n",
    "plt.scatter(alpha,Precision_alpha)\n",
    "plt.plot(alpha,Precision_alpha)\n",
    "plt.xlabel(\"alpha\")\n",
    "plt.ylabel(\"Precision@20\")\n",
    "plt.savefig('4.png')\n",
    "plt.clf()\n",
    "\n",
    "plt.scatter(alpha,Recall_alpha)\n",
    "plt.plot(alpha,Recall_alpha)\n",
    "plt.xlabel(\"alpha\")\n",
    "plt.ylabel(\"Recall@20\")\n",
    "plt.savefig('5.png')\n",
    "plt.clf()\n",
    "\n",
    "\n",
    "\n",
    "plt.scatter(lambada,Precision_lambda)\n",
    "plt.plot(lambada,Precision_lambda)\n",
    "plt.xlabel(\"lambda\")\n",
    "plt.ylabel(\"Precision@20\")\n",
    "plt.savefig('7.png')\n",
    "plt.clf()\n",
    "\n",
    "plt.scatter(lambada,Recall_lambda)\n",
    "plt.plot(lambada,Recall_lambda)\n",
    "plt.xlabel(\"lambda\")\n",
    "plt.ylabel(\"Recall@20\")\n",
    "plt.savefig('8.png')\n",
    "plt.clf()\n",
    "\n"
   ]
  },
  {
   "cell_type": "code",
   "execution_count": 72,
   "metadata": {
    "scrolled": false
   },
   "outputs": [
    {
     "data": {
      "text/html": [
       "<div>\n",
       "<style scoped>\n",
       "    .dataframe tbody tr th:only-of-type {\n",
       "        vertical-align: middle;\n",
       "    }\n",
       "\n",
       "    .dataframe tbody tr th {\n",
       "        vertical-align: top;\n",
       "    }\n",
       "\n",
       "    .dataframe thead th {\n",
       "        text-align: right;\n",
       "    }\n",
       "</style>\n",
       "<table border=\"1\" class=\"dataframe\">\n",
       "  <thead>\n",
       "    <tr style=\"text-align: right;\">\n",
       "      <th></th>\n",
       "      <th>No1</th>\n",
       "      <th>No2</th>\n",
       "      <th>Precision</th>\n",
       "      <th>Recall</th>\n",
       "      <th>NDCG</th>\n",
       "    </tr>\n",
       "  </thead>\n",
       "  <tbody>\n",
       "    <tr>\n",
       "      <th>0</th>\n",
       "      <td>0</td>\n",
       "      <td>359</td>\n",
       "      <td>0.0</td>\n",
       "      <td>0.000000</td>\n",
       "      <td>0.000000</td>\n",
       "    </tr>\n",
       "    <tr>\n",
       "      <th>1</th>\n",
       "      <td>1</td>\n",
       "      <td>4124</td>\n",
       "      <td>0.1</td>\n",
       "      <td>0.177211</td>\n",
       "      <td>0.072061</td>\n",
       "    </tr>\n",
       "    <tr>\n",
       "      <th>2</th>\n",
       "      <td>2</td>\n",
       "      <td>4143</td>\n",
       "      <td>0.1</td>\n",
       "      <td>0.145925</td>\n",
       "      <td>0.060612</td>\n",
       "    </tr>\n",
       "    <tr>\n",
       "      <th>3</th>\n",
       "      <td>3</td>\n",
       "      <td>822</td>\n",
       "      <td>0.1</td>\n",
       "      <td>0.164054</td>\n",
       "      <td>0.071395</td>\n",
       "    </tr>\n",
       "    <tr>\n",
       "      <th>4</th>\n",
       "      <td>4</td>\n",
       "      <td>795</td>\n",
       "      <td>0.0</td>\n",
       "      <td>0.000000</td>\n",
       "      <td>0.000000</td>\n",
       "    </tr>\n",
       "    <tr>\n",
       "      <th>...</th>\n",
       "      <td>...</td>\n",
       "      <td>...</td>\n",
       "      <td>...</td>\n",
       "      <td>...</td>\n",
       "      <td>...</td>\n",
       "    </tr>\n",
       "    <tr>\n",
       "      <th>5623</th>\n",
       "      <td>5623</td>\n",
       "      <td>2192</td>\n",
       "      <td>0.0</td>\n",
       "      <td>0.000000</td>\n",
       "      <td>0.000000</td>\n",
       "    </tr>\n",
       "    <tr>\n",
       "      <th>5624</th>\n",
       "      <td>5624</td>\n",
       "      <td>4222</td>\n",
       "      <td>0.0</td>\n",
       "      <td>0.000000</td>\n",
       "      <td>0.000000</td>\n",
       "    </tr>\n",
       "    <tr>\n",
       "      <th>5625</th>\n",
       "      <td>5625</td>\n",
       "      <td>2754</td>\n",
       "      <td>0.2</td>\n",
       "      <td>0.153486</td>\n",
       "      <td>0.087058</td>\n",
       "    </tr>\n",
       "    <tr>\n",
       "      <th>5626</th>\n",
       "      <td>5626</td>\n",
       "      <td>388</td>\n",
       "      <td>0.1</td>\n",
       "      <td>0.008769</td>\n",
       "      <td>0.087764</td>\n",
       "    </tr>\n",
       "    <tr>\n",
       "      <th>5627</th>\n",
       "      <td>5627</td>\n",
       "      <td>3883</td>\n",
       "      <td>0.0</td>\n",
       "      <td>0.000000</td>\n",
       "      <td>0.000000</td>\n",
       "    </tr>\n",
       "  </tbody>\n",
       "</table>\n",
       "<p>5628 rows × 5 columns</p>\n",
       "</div>"
      ],
      "text/plain": [
       "       No1   No2  Precision    Recall      NDCG\n",
       "0        0   359        0.0  0.000000  0.000000\n",
       "1        1  4124        0.1  0.177211  0.072061\n",
       "2        2  4143        0.1  0.145925  0.060612\n",
       "3        3   822        0.1  0.164054  0.071395\n",
       "4        4   795        0.0  0.000000  0.000000\n",
       "...    ...   ...        ...       ...       ...\n",
       "5623  5623  2192        0.0  0.000000  0.000000\n",
       "5624  5624  4222        0.0  0.000000  0.000000\n",
       "5625  5625  2754        0.2  0.153486  0.087058\n",
       "5626  5626   388        0.1  0.008769  0.087764\n",
       "5627  5627  3883        0.0  0.000000  0.000000\n",
       "\n",
       "[5628 rows x 5 columns]"
      ]
     },
     "execution_count": 72,
     "metadata": {},
     "output_type": "execute_result"
    }
   ],
   "source": [
    "df"
   ]
  },
  {
   "cell_type": "code",
   "execution_count": 73,
   "metadata": {},
   "outputs": [
    {
     "data": {
      "text/plain": [
       "<Figure size 432x288 with 0 Axes>"
      ]
     },
     "metadata": {},
     "output_type": "display_data"
    },
    {
     "data": {
      "text/plain": [
       "<Figure size 432x288 with 0 Axes>"
      ]
     },
     "metadata": {},
     "output_type": "display_data"
    }
   ],
   "source": [
    "train_set = pd.read_table('Gowalla_train.txt', delim_whitespace=True, names=('user id','location id', 'frequency'),\n",
    "                   dtype={'user id': np.int64, 'user id': np.int64, 'frequency': np.int64})\n",
    "\n",
    "train_set=train_set[['location id','frequency']]\n",
    "\n",
    "train_set=train_set.groupby(['location id']).sum()\n",
    "\n",
    "# train_set = train_set[train_set.frequency != 0]\n",
    "# train_set = train_set[train_set.frequency != 1]\n",
    "\n",
    "\n",
    "train_set.hist()\n",
    "plt.ylabel(\"count for locations\")\n",
    "plt.title('location frequency')\n",
    "plt.savefig('10.png')\n",
    "plt.clf()\n",
    "\n",
    "train_set = train_set[train_set.frequency >= 10]\n",
    "train_set.hist()\n",
    "plt.ylabel(\"count for locations\")\n",
    "plt.title('location frequency for frequencies above 10')\n",
    "plt.savefig('11.png')\n",
    "plt.clf()\n",
    "\n",
    "# train_set = train_set[train_set.frequency >= 100]\n",
    "# train_set.hist()\n",
    "# plt.ylabel(\"count for locations\")\n",
    "# plt.savefig('12.png')\n",
    "# plt.title('location frequency for frequencies above 100')\n",
    "# plt.clf()\n",
    "\n",
    "# train_set = train_set[train_set.frequency >= 1000]\n",
    "# train_set.hist()\n",
    "# plt.ylabel(\"count for locations\")\n",
    "# plt.savefig('13.png')\n",
    "# plt.title('location frequency for frequencies above 1000')\n",
    "\n",
    "# plt.clf()\n",
    "\n",
    "\n"
   ]
  },
  {
   "cell_type": "code",
   "execution_count": 74,
   "metadata": {},
   "outputs": [
    {
     "data": {
      "text/plain": [
       "<Figure size 432x288 with 0 Axes>"
      ]
     },
     "metadata": {},
     "output_type": "display_data"
    },
    {
     "data": {
      "text/plain": [
       "<Figure size 432x288 with 0 Axes>"
      ]
     },
     "metadata": {},
     "output_type": "display_data"
    }
   ],
   "source": [
    "train_set = pd.read_table('Gowalla_train.txt', delim_whitespace=True, names=('user id','location id', 'frequency'),\n",
    "                   dtype={'user id': np.int64, 'user id': np.int64, 'frequency': np.int64})\n",
    "\n",
    "train_set=train_set[['user id','frequency']]\n",
    "\n",
    "train_set=train_set.groupby(['user id']).sum()\n",
    "\n",
    "\n",
    "train_set.hist()\n",
    "plt.ylabel(\"count for user\")\n",
    "plt.title('users frequency')\n",
    "plt.savefig('31.png')\n",
    "plt.clf()\n",
    "\n",
    "train_set = train_set[train_set.frequency >= 10]\n",
    "train_set.hist()\n",
    "plt.ylabel(\"count for user\")\n",
    "plt.title('users frequency for frequencies above 10')\n",
    "plt.savefig('32.png')\n",
    "plt.clf()\n",
    "\n",
    "# train_set = train_set[train_set.frequency >= 100]\n",
    "# train_set.hist()\n",
    "# plt.ylabel(\"count for user\")\n",
    "# plt.savefig('16.png')\n",
    "# plt.title('users frequency for frequencies above 100')\n",
    "# plt.clf()\n",
    "\n",
    "# train_set = train_set[train_set.frequency >= 500]\n",
    "# train_set.hist()\n",
    "# plt.ylabel(\"count for user\")\n",
    "# plt.savefig('17.png')\n",
    "# plt.title('users frequency for frequencies above 500')\n",
    "\n",
    "# plt.clf()"
   ]
  },
  {
   "cell_type": "code",
   "execution_count": 75,
   "metadata": {
    "scrolled": true
   },
   "outputs": [
    {
     "data": {
      "text/plain": [
       "<Figure size 432x288 with 0 Axes>"
      ]
     },
     "metadata": {},
     "output_type": "display_data"
    }
   ],
   "source": [
    "train_set = pd.read_table('Gowalla_train.txt', delim_whitespace=True, names=('user id','location id', 'frequency'),\n",
    "                   dtype={'user id': np.int64, 'user id': np.int64, 'frequency': np.int64})\n",
    "\n",
    "\n",
    "\n",
    "boxplot_user = train_set.boxplot(column=['user id'])\n",
    "plt.ylabel(\"count\")\n",
    "plt.savefig('18.png')\n",
    "plt.clf()\n",
    "\n",
    "boxplot_location = train_set.boxplot(column=['location id'])\n",
    "plt.ylabel(\"count\")\n",
    "plt.savefig('19.png')\n",
    "plt.clf()"
   ]
  },
  {
   "cell_type": "code",
   "execution_count": 76,
   "metadata": {
    "scrolled": true
   },
   "outputs": [
    {
     "data": {
      "text/html": [
       "<div>\n",
       "<style scoped>\n",
       "    .dataframe tbody tr th:only-of-type {\n",
       "        vertical-align: middle;\n",
       "    }\n",
       "\n",
       "    .dataframe tbody tr th {\n",
       "        vertical-align: top;\n",
       "    }\n",
       "\n",
       "    .dataframe thead th {\n",
       "        text-align: right;\n",
       "    }\n",
       "</style>\n",
       "<table border=\"1\" class=\"dataframe\">\n",
       "  <thead>\n",
       "    <tr style=\"text-align: right;\">\n",
       "      <th></th>\n",
       "      <th>frequency</th>\n",
       "    </tr>\n",
       "  </thead>\n",
       "  <tbody>\n",
       "    <tr>\n",
       "      <th>count</th>\n",
       "      <td>5628.000000</td>\n",
       "    </tr>\n",
       "    <tr>\n",
       "      <th>mean</th>\n",
       "      <td>85.971215</td>\n",
       "    </tr>\n",
       "    <tr>\n",
       "      <th>std</th>\n",
       "      <td>116.289148</td>\n",
       "    </tr>\n",
       "    <tr>\n",
       "      <th>min</th>\n",
       "      <td>10.000000</td>\n",
       "    </tr>\n",
       "    <tr>\n",
       "      <th>25%</th>\n",
       "      <td>24.000000</td>\n",
       "    </tr>\n",
       "    <tr>\n",
       "      <th>50%</th>\n",
       "      <td>44.000000</td>\n",
       "    </tr>\n",
       "    <tr>\n",
       "      <th>75%</th>\n",
       "      <td>97.000000</td>\n",
       "    </tr>\n",
       "    <tr>\n",
       "      <th>max</th>\n",
       "      <td>1389.000000</td>\n",
       "    </tr>\n",
       "  </tbody>\n",
       "</table>\n",
       "</div>"
      ],
      "text/plain": [
       "         frequency\n",
       "count  5628.000000\n",
       "mean     85.971215\n",
       "std     116.289148\n",
       "min      10.000000\n",
       "25%      24.000000\n",
       "50%      44.000000\n",
       "75%      97.000000\n",
       "max    1389.000000"
      ]
     },
     "execution_count": 76,
     "metadata": {},
     "output_type": "execute_result"
    }
   ],
   "source": [
    "train_set = pd.read_table('Gowalla_train.txt', delim_whitespace=True, names=('user id','location id', 'frequency'),\n",
    "                   dtype={'user id': np.int64, 'user id': np.int64, 'frequency': np.int64})\n",
    "\n",
    "train_set2=train_set[['user id','frequency']]\n",
    "train_set2.groupby(['user id']).sum().describe()\n"
   ]
  },
  {
   "cell_type": "code",
   "execution_count": 77,
   "metadata": {},
   "outputs": [
    {
     "data": {
      "text/html": [
       "<div>\n",
       "<style scoped>\n",
       "    .dataframe tbody tr th:only-of-type {\n",
       "        vertical-align: middle;\n",
       "    }\n",
       "\n",
       "    .dataframe tbody tr th {\n",
       "        vertical-align: top;\n",
       "    }\n",
       "\n",
       "    .dataframe thead th {\n",
       "        text-align: right;\n",
       "    }\n",
       "</style>\n",
       "<table border=\"1\" class=\"dataframe\">\n",
       "  <thead>\n",
       "    <tr style=\"text-align: right;\">\n",
       "      <th></th>\n",
       "      <th>frequency</th>\n",
       "    </tr>\n",
       "  </thead>\n",
       "  <tbody>\n",
       "    <tr>\n",
       "      <th>count</th>\n",
       "      <td>30943.000000</td>\n",
       "    </tr>\n",
       "    <tr>\n",
       "      <th>mean</th>\n",
       "      <td>15.636687</td>\n",
       "    </tr>\n",
       "    <tr>\n",
       "      <th>std</th>\n",
       "      <td>43.750673</td>\n",
       "    </tr>\n",
       "    <tr>\n",
       "      <th>min</th>\n",
       "      <td>1.000000</td>\n",
       "    </tr>\n",
       "    <tr>\n",
       "      <th>25%</th>\n",
       "      <td>4.000000</td>\n",
       "    </tr>\n",
       "    <tr>\n",
       "      <th>50%</th>\n",
       "      <td>7.000000</td>\n",
       "    </tr>\n",
       "    <tr>\n",
       "      <th>75%</th>\n",
       "      <td>15.000000</td>\n",
       "    </tr>\n",
       "    <tr>\n",
       "      <th>max</th>\n",
       "      <td>2305.000000</td>\n",
       "    </tr>\n",
       "  </tbody>\n",
       "</table>\n",
       "</div>"
      ],
      "text/plain": [
       "          frequency\n",
       "count  30943.000000\n",
       "mean      15.636687\n",
       "std       43.750673\n",
       "min        1.000000\n",
       "25%        4.000000\n",
       "50%        7.000000\n",
       "75%       15.000000\n",
       "max     2305.000000"
      ]
     },
     "execution_count": 77,
     "metadata": {},
     "output_type": "execute_result"
    }
   ],
   "source": [
    "train_set3=train_set[['location id','frequency']]\n",
    "train_set3.groupby(['location id']).sum().describe()"
   ]
  },
  {
   "cell_type": "code",
   "execution_count": 78,
   "metadata": {},
   "outputs": [],
   "source": [
    "frequencies=train_set[['user id','frequency']].groupby(['user id']).sum()"
   ]
  },
  {
   "cell_type": "code",
   "execution_count": 79,
   "metadata": {},
   "outputs": [
    {
     "data": {
      "image/png": "[encoded data removed]",
      "text/plain": [
       "<Figure size 432x288 with 1 Axes>"
      ]
     },
     "metadata": {
      "needs_background": "light"
     },
     "output_type": "display_data"
    }
   ],
   "source": [
    "train_set['sum of different places']=1\n",
    "train_set4=train_set[['user id','sum of different places']]\n",
    "sum_different_places=train_set4.groupby(['user id']).sum()\n",
    "\n",
    "\n",
    "sum_different_places=sum_different_places.join(frequencies, on='user id')\n",
    "\n",
    "sum_different_places['ratio']=sum_different_places['frequency']/sum_different_places['sum of different places']\n",
    "\n",
    "sum_different_places['ratio'].hist()\n",
    "plt.ylabel(\"count\")\n",
    "\n",
    "plt.title(\"histogram for: sum of all check ins / sum of different places \")\n",
    "plt.savefig('20.png')\n",
    "\n",
    "\n"
   ]
  },
  {
   "cell_type": "code",
   "execution_count": null,
   "metadata": {},
   "outputs": [],
   "source": []
  },
  {
   "cell_type": "code",
   "execution_count": null,
   "metadata": {},
   "outputs": [],
   "source": []
  }
 ],
 "metadata": {
  "kernelspec": {
   "display_name": "Python 3",
   "language": "python",
   "name": "python3"
  },
  "language_info": {
   "codemirror_mode": {
    "name": "ipython",
    "version": 3
   },
   "file_extension": ".py",
   "mimetype": "text/x-python",
   "name": "python",
   "nbconvert_exporter": "python",
   "pygments_lexer": "ipython3",
   "version": "3.8.3"
  }
 },
 "nbformat": 4,
 "nbformat_minor": 4
}
