{
 "cells": [
  {
   "cell_type": "code",
   "execution_count": null,
   "metadata": {},
   "outputs": [],
   "source": []
  },
  {
   "cell_type": "code",
   "execution_count": 1,
   "metadata": {},
   "outputs": [],
   "source": [
    "import pandas as pd\n",
    "import matplotlib.pyplot as plt\n",
    "import seaborn as sns\n",
    "from pandas.plotting import parallel_coordinates\n",
    "from sklearn.decomposition import PCA\n",
    "from sklearn.preprocessing import StandardScaler"
   ]
  },
  {
   "cell_type": "code",
   "execution_count": 5,
   "metadata": {},
   "outputs": [],
   "source": [
    "crimerateDataPath = \"../result_gowalla/result_top_20.txt\"\n",
    "\n",
    "df = pd.read_csv(crimerateDataPath, sep = \"\\\")"
   ]
  },
  {
   "cell_type": "code",
   "execution_count": 6,
   "metadata": {},
   "outputs": [
    {
     "data": {
      "text/html": [
       "<div>\n",
       "<style scoped>\n",
       "    .dataframe tbody tr th:only-of-type {\n",
       "        vertical-align: middle;\n",
       "    }\n",
       "\n",
       "    .dataframe tbody tr th {\n",
       "        vertical-align: top;\n",
       "    }\n",
       "\n",
       "    .dataframe thead th {\n",
       "        text-align: right;\n",
       "    }\n",
       "</style>\n",
       "<table border=\"1\" class=\"dataframe\">\n",
       "  <thead>\n",
       "    <tr style=\"text-align: right;\">\n",
       "      <th></th>\n",
       "      <th>0\\t1220\\t0.4\\t0.181818181818\\t0.48044529823479354\\t0.110555555556</th>\n",
       "    </tr>\n",
       "  </thead>\n",
       "  <tbody>\n",
       "    <tr>\n",
       "      <th>0</th>\n",
       "      <td>1\\t2750\\t0.0\\t0.0\\t0.0\\t0.0</td>\n",
       "    </tr>\n",
       "    <tr>\n",
       "      <th>1</th>\n",
       "      <td>2\\t545\\t0.0\\t0.0\\t0.0\\t0.0</td>\n",
       "    </tr>\n",
       "    <tr>\n",
       "      <th>2</th>\n",
       "      <td>3\\t625\\t0.0\\t0.0\\t0.0\\t0.0</td>\n",
       "    </tr>\n",
       "    <tr>\n",
       "      <th>3</th>\n",
       "      <td>4\\t4996\\t0.1\\t0.0714285714286\\t0.0719953483414...</td>\n",
       "    </tr>\n",
       "    <tr>\n",
       "      <th>4</th>\n",
       "      <td>5\\t1404\\t0.1\\t0.166666666667\\t0.08704683662541...</td>\n",
       "    </tr>\n",
       "    <tr>\n",
       "      <th>...</th>\n",
       "      <td>...</td>\n",
       "    </tr>\n",
       "    <tr>\n",
       "      <th>5622</th>\n",
       "      <td>5623\\t1047\\t0.0\\t0.0\\t0.0\\t0.0</td>\n",
       "    </tr>\n",
       "    <tr>\n",
       "      <th>5623</th>\n",
       "      <td>5624\\t2339\\t0.0\\t0.0\\t0.0\\t0.0</td>\n",
       "    </tr>\n",
       "    <tr>\n",
       "      <th>5624</th>\n",
       "      <td>5625\\t3792\\t0.0\\t0.0\\t0.0\\t0.0</td>\n",
       "    </tr>\n",
       "    <tr>\n",
       "      <th>5625</th>\n",
       "      <td>5626\\t2769\\t0.0\\t0.0\\t0.0\\t0.0</td>\n",
       "    </tr>\n",
       "    <tr>\n",
       "      <th>5626</th>\n",
       "      <td>5627\\t5119\\t0.0\\t0.0\\t0.0\\t0.0</td>\n",
       "    </tr>\n",
       "  </tbody>\n",
       "</table>\n",
       "<p>5627 rows × 1 columns</p>\n",
       "</div>"
      ],
      "text/plain": [
       "     0\\t1220\\t0.4\\t0.181818181818\\t0.48044529823479354\\t0.110555555556\n",
       "0                           1\\t2750\\t0.0\\t0.0\\t0.0\\t0.0               \n",
       "1                            2\\t545\\t0.0\\t0.0\\t0.0\\t0.0               \n",
       "2                            3\\t625\\t0.0\\t0.0\\t0.0\\t0.0               \n",
       "3     4\\t4996\\t0.1\\t0.0714285714286\\t0.0719953483414...               \n",
       "4     5\\t1404\\t0.1\\t0.166666666667\\t0.08704683662541...               \n",
       "...                                                 ...               \n",
       "5622                     5623\\t1047\\t0.0\\t0.0\\t0.0\\t0.0               \n",
       "5623                     5624\\t2339\\t0.0\\t0.0\\t0.0\\t0.0               \n",
       "5624                     5625\\t3792\\t0.0\\t0.0\\t0.0\\t0.0               \n",
       "5625                     5626\\t2769\\t0.0\\t0.0\\t0.0\\t0.0               \n",
       "5626                     5627\\t5119\\t0.0\\t0.0\\t0.0\\t0.0               \n",
       "\n",
       "[5627 rows x 1 columns]"
      ]
     },
     "execution_count": 6,
     "metadata": {},
     "output_type": "execute_result"
    }
   ],
   "source": [
    "df"
   ]
  },
  {
   "cell_type": "code",
   "execution_count": null,
   "metadata": {},
   "outputs": [],
   "source": []
  },
  {
   "cell_type": "code",
   "execution_count": null,
   "metadata": {},
   "outputs": [],
   "source": []
  },
  {
   "cell_type": "code",
   "execution_count": null,
   "metadata": {},
   "outputs": [],
   "source": []
  },
  {
   "cell_type": "code",
   "execution_count": null,
   "metadata": {},
   "outputs": [],
   "source": []
  }
 ],
 "metadata": {
  "kernelspec": {
   "display_name": "Python 3",
   "language": "python",
   "name": "python3"
  },
  "language_info": {
   "codemirror_mode": {
    "name": "ipython",
    "version": 3
   },
   "file_extension": ".py",
   "mimetype": "text/x-python",
   "name": "python",
   "nbconvert_exporter": "python",
   "pygments_lexer": "ipython3",
   "version": "3.8.5"
  }
 },
 "nbformat": 4,
 "nbformat_minor": 4
}
