{
 "cells": [
  {
   "cell_type": "markdown",
   "metadata": {},
   "source": [
    "## Experiment 2 - influence of percentage visited per user on nDCG"
   ]
  },
  {
   "cell_type": "code",
   "execution_count": 15,
   "metadata": {},
   "outputs": [],
   "source": [
    "import pandas as pd\n",
    "import numpy as np\n",
    "import matplotlib.pyplot as plt\n",
    "import seaborn as sns\n",
    "from pandas.plotting import parallel_coordinates\n",
    "from sklearn.decomposition import PCA\n",
    "from sklearn.preprocessing import StandardScaler\n",
    "from scipy.stats import norm\n",
    "from scipy import stats"
   ]
  },
  {
   "cell_type": "code",
   "execution_count": 23,
   "metadata": {},
   "outputs": [],
   "source": [
    "Path = \"../results/result_full Dataset_Ex2/\"\n",
    "ds = \"gowalla\"\n",
    "alg = \"STACP\"\n",
    "df_100 = pd.read_csv(Path+\"result_top_20_100.txt\", sep = \"\\t\", header = None)\n",
    "df_100.columns = [\"cnt\", \"uid\", \"prec\", \"rec\", \"ndcg\", \"map\"]\n",
    "df_80 = pd.read_csv(Path+\"result_top_20_80.txt\", sep = \"\\t\", header = None)\n",
    "df_80.columns = [\"cnt\", \"uid\", \"prec\", \"rec\", \"ndcg\", \"map\"]\n",
    "df_60 = pd.read_csv(Path+\"result_top_20_60.txt\", sep = \"\\t\", header = None)\n",
    "df_60.columns = [\"cnt\", \"uid\", \"prec\", \"rec\", \"ndcg\", \"map\"]\n",
    "df_40 = pd.read_csv(Path+\"result_top_20_40.txt\", sep = \"\\t\", header = None)\n",
    "df_40.columns = [\"cnt\", \"uid\", \"prec\", \"rec\", \"ndcg\", \"map\"]"
   ]
  },
  {
   "cell_type": "code",
   "execution_count": 39,
   "metadata": {},
   "outputs": [],
   "source": [
    "ex2 = pd.DataFrame(columns = [\"dataset\",\"algorithm\", \"visited\",\"nDCG\", \"map\"]) \n",
    "ex2 = ex2.append({'dataset':ds,'algorithm': alg, 'visited':40,'nDCG':df_40[\"ndcg\"].mean(),  'map':df_40[\"map\"].mean()}, ignore_index=True)\n",
    "ex2 = ex2.append({'dataset':ds,'algorithm': alg, 'visited':60,'nDCG':df_60[\"ndcg\"].mean(),  'map':df_60[\"map\"].mean()}, ignore_index=True)\n",
    "ex2 = ex2.append({'dataset':ds,'algorithm': alg, 'visited':80,'nDCG':df_80[\"ndcg\"].mean(),  'map':df_80[\"map\"].mean()}, ignore_index=True)\n",
    "ex2 = ex2.append({'dataset':ds,'algorithm': alg, 'visited':100,'nDCG':df_100[\"ndcg\"].mean(),  'map':df_100[\"map\"].mean()}, ignore_index=True)\n"
   ]
  },
  {
   "cell_type": "code",
   "execution_count": 40,
   "metadata": {},
   "outputs": [
    {
     "data": {
      "text/html": [
       "<div>\n",
       "<style scoped>\n",
       "    .dataframe tbody tr th:only-of-type {\n",
       "        vertical-align: middle;\n",
       "    }\n",
       "\n",
       "    .dataframe tbody tr th {\n",
       "        vertical-align: top;\n",
       "    }\n",
       "\n",
       "    .dataframe thead th {\n",
       "        text-align: right;\n",
       "    }\n",
       "</style>\n",
       "<table border=\"1\" class=\"dataframe\">\n",
       "  <thead>\n",
       "    <tr style=\"text-align: right;\">\n",
       "      <th></th>\n",
       "      <th>dataset</th>\n",
       "      <th>algorithm</th>\n",
       "      <th>visited</th>\n",
       "      <th>nDCG</th>\n",
       "      <th>map</th>\n",
       "    </tr>\n",
       "  </thead>\n",
       "  <tbody>\n",
       "    <tr>\n",
       "      <th>0</th>\n",
       "      <td>gowalla</td>\n",
       "      <td>STACP</td>\n",
       "      <td>40</td>\n",
       "      <td>0.028952</td>\n",
       "      <td>0.015974</td>\n",
       "    </tr>\n",
       "    <tr>\n",
       "      <th>1</th>\n",
       "      <td>gowalla</td>\n",
       "      <td>STACP</td>\n",
       "      <td>60</td>\n",
       "      <td>0.031180</td>\n",
       "      <td>0.017743</td>\n",
       "    </tr>\n",
       "    <tr>\n",
       "      <th>2</th>\n",
       "      <td>gowalla</td>\n",
       "      <td>STACP</td>\n",
       "      <td>80</td>\n",
       "      <td>0.034059</td>\n",
       "      <td>0.019537</td>\n",
       "    </tr>\n",
       "    <tr>\n",
       "      <th>3</th>\n",
       "      <td>gowalla</td>\n",
       "      <td>STACP</td>\n",
       "      <td>100</td>\n",
       "      <td>0.036401</td>\n",
       "      <td>0.021671</td>\n",
       "    </tr>\n",
       "  </tbody>\n",
       "</table>\n",
       "</div>"
      ],
      "text/plain": [
       "   dataset algorithm visited      nDCG       map\n",
       "0  gowalla     STACP      40  0.028952  0.015974\n",
       "1  gowalla     STACP      60  0.031180  0.017743\n",
       "2  gowalla     STACP      80  0.034059  0.019537\n",
       "3  gowalla     STACP     100  0.036401  0.021671"
      ]
     },
     "execution_count": 40,
     "metadata": {},
     "output_type": "execute_result"
    }
   ],
   "source": [
    "ex2"
   ]
  },
  {
   "cell_type": "code",
   "execution_count": 49,
   "metadata": {},
   "outputs": [
    {
     "data": {
      "image/png": "[encoded data removed]",
      "text/plain": [
       "<Figure size 1080x144 with 1 Axes>"
      ]
     },
     "metadata": {
      "needs_background": "light"
     },
     "output_type": "display_data"
    }
   ],
   "source": [
    "# create data \n",
    "x = np.arange(4) \n",
    "y1 = ex2.nDCG\n",
    "y2 = ex2.map\n",
    "y3 = ex2.nDCG\n",
    "width = 0.2\n",
    "  \n",
    "# plot data in grouped manner of bar type \n",
    "plt.figure(figsize=(15,2));\n",
    "\n",
    "plt.bar(x-0.2, y1, width, color='cyan') \n",
    "plt.bar(x, y2, width, color='orange') \n",
    "#plt.bar(x+0.2, y3, width, color='green') \n",
    "plt.xticks(x, ['40', '60','80', '100']) \n",
    "plt.legend([\"STACP_nDCG\", \"STACP_mAP\", \"Round 3\"], bbox_to_anchor=(1.01, 1),borderaxespad=0) \n",
    "plt.xlabel(\"Percentage of POIs each user has visited\") \n",
    "plt.ylabel(\"nDCG@20\") \n",
    "plt.grid(axis = 'y')\n",
    "plt.show() "
   ]
  },
  {
   "cell_type": "code",
   "execution_count": 14,
   "metadata": {},
   "outputs": [
    {
     "data": {
      "text/plain": [
       "cnt     2813.500000\n",
       "uid     2813.500000\n",
       "prec       0.032578\n",
       "rec        0.066694\n",
       "ndcg       0.036401\n",
       "map        0.021671\n",
       "dtype: float64"
      ]
     },
     "execution_count": 14,
     "metadata": {},
     "output_type": "execute_result"
    }
   ],
   "source": [
    "df_100.mean()"
   ]
  },
  {
   "cell_type": "code",
   "execution_count": 18,
   "metadata": {},
   "outputs": [
    {
     "name": "stdout",
     "output_type": "stream",
     "text": [
      "Ttest_1sampResult(statistic=26.13188265167397, pvalue=3.586215542013316e-142)\n",
      "Ttest_1sampResult(statistic=24.996222490347336, pvalue=7.376677438656684e-131)\n",
      "Ttest_1sampResult(statistic=34.82950904126524, pvalue=7.225210493794448e-241)\n"
     ]
    }
   ],
   "source": [
    "print(stats.ttest_1samp(df_100[\"prec\"],0.0146))\n",
    "print(stats.ttest_1samp(df_100[\"rec\"],0.0270))\n",
    "print(stats.ttest_1samp(df_100[\"ndcg\"],0.0079))"
   ]
  },
  {
   "cell_type": "code",
   "execution_count": 157,
   "metadata": {},
   "outputs": [
    {
     "data": {
      "text/plain": [
       "0.040920421588774174"
      ]
     },
     "execution_count": 157,
     "metadata": {},
     "output_type": "execute_result"
    }
   ],
   "source": []
  },
  {
   "cell_type": "code",
   "execution_count": 251,
   "metadata": {},
   "outputs": [],
   "source": []
  },
  {
   "cell_type": "code",
   "execution_count": null,
   "metadata": {},
   "outputs": [],
   "source": []
  }
 ],
 "metadata": {
  "kernelspec": {
   "display_name": "Python 3",
   "language": "python",
   "name": "python3"
  },
  "language_info": {
   "codemirror_mode": {
    "name": "ipython",
    "version": 3
   },
   "file_extension": ".py",
   "mimetype": "text/x-python",
   "name": "python",
   "nbconvert_exporter": "python",
   "pygments_lexer": "ipython3",
   "version": "3.8.5"
  }
 },
 "nbformat": 4,
 "nbformat_minor": 4
}
