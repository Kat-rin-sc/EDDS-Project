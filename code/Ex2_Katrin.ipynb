{
 "cells": [
  {
   "cell_type": "markdown",
   "metadata": {},
   "source": [
    "## Experiment 2 - influence of percentage visited per user on nDCG"
   ]
  },
  {
   "cell_type": "code",
   "execution_count": 157,
   "metadata": {},
   "outputs": [],
   "source": [
    "import pandas as pd\n",
    "import numpy as np\n",
    "import matplotlib.pyplot as plt\n",
    "import seaborn as sns\n",
    "from pandas.plotting import parallel_coordinates\n",
    "from sklearn.decomposition import PCA\n",
    "from sklearn.preprocessing import StandardScaler\n",
    "from scipy.stats import norm\n",
    "from scipy import stats"
   ]
  },
  {
   "cell_type": "code",
   "execution_count": 163,
   "metadata": {},
   "outputs": [],
   "source": [
    "Path = \"../results/\"\n",
    "ds = \"gowalla\"\n",
    "alg = \"STACP\"\n",
    "df_100 = pd.read_csv(Path+\"result_top_20_100.txt\", sep = \"\\t\", header = None)\n",
    "df_100.columns = [\"cnt\", \"uid\", \"prec\", \"rec\", \"ndcg\", \"map\"]\n",
    "df_80 = pd.read_csv(Path+\"result_top_20_80.txt\", sep = \"\\t\", header = None)\n",
    "df_80.columns = [\"cnt\", \"uid\", \"prec\", \"rec\", \"ndcg\", \"map\"]\n",
    "df_60 = pd.read_csv(Path+\"result_top_20_60.txt\", sep = \"\\t\", header = None)\n",
    "df_60.columns = [\"cnt\", \"uid\", \"prec\", \"rec\", \"ndcg\", \"map\"]\n",
    "df_40 = pd.read_csv(Path+\"result_top_20_40.txt\", sep = \"\\t\", header = None)\n",
    "df_40.columns = [\"cnt\", \"uid\", \"prec\", \"rec\", \"ndcg\", \"map\"]\n",
    "\n",
    "df_100_noctx = pd.read_csv(Path+\"result_top_20_100_noctx.txt\", sep = \"\\t\", header = None)\n",
    "df_100_noctx.columns = [\"cnt\", \"uid\", \"prec\", \"rec\", \"ndcg\", \"map\"]\n",
    "df_80_noctx = pd.read_csv(Path+\"result_top_20_80_noctx.txt\", sep = \"\\t\", header = None)\n",
    "df_80_noctx.columns = [\"cnt\", \"uid\", \"prec\", \"rec\", \"ndcg\", \"map\"]\n",
    "df_60_noctx = pd.read_csv(Path+\"result_top_20_60_noctx.txt\", sep = \"\\t\", header = None)\n",
    "df_60_noctx.columns = [\"cnt\", \"uid\", \"prec\", \"rec\", \"ndcg\", \"map\"]\n",
    "df_40_noctx = pd.read_csv(Path+\"result_top_20_40_noctx.txt\", sep = \"\\t\", header = None)\n",
    "df_40_noctx.columns = [\"cnt\", \"uid\", \"prec\", \"rec\", \"ndcg\", \"map\"]\n",
    "\n",
    "df_100_noTC = pd.read_csv(Path+\"result_top_20_100_noTC.txt\", sep = \"\\t\", header = None)\n",
    "df_100_noTC.columns = [\"cnt\", \"uid\", \"prec\", \"rec\", \"ndcg\", \"map\"]\n",
    "df_80_noTC = pd.read_csv(Path+\"result_top_20_80_noTC.txt\", sep = \"\\t\", header = None)\n",
    "df_80_noTC.columns = [\"cnt\", \"uid\", \"prec\", \"rec\", \"ndcg\", \"map\"]\n",
    "df_60_noTC = pd.read_csv(Path+\"result_top_20_60_noTC.txt\", sep = \"\\t\", header = None)\n",
    "df_60_noTC.columns = [\"cnt\", \"uid\", \"prec\", \"rec\", \"ndcg\", \"map\"]\n",
    "df_40_noTC = pd.read_csv(Path+\"result_top_20_40_noTC.txt\", sep = \"\\t\", header = None)\n",
    "df_40_noTC.columns = [\"cnt\", \"uid\", \"prec\", \"rec\", \"ndcg\", \"map\"]\n",
    "\n",
    "df_100_lrt = pd.read_csv(Path+\"lrt_top_20_100.txt\", sep = \"\\t\", header = None)\n",
    "df_100_lrt.columns = [\"cnt\", \"uid\", \"prec\", \"rec\", \"ndcg\"]\n",
    "df_80_lrt = pd.read_csv(Path+\"lrt_top_20_80.txt\", sep = \"\\t\", header = None)\n",
    "df_80_lrt.columns = [\"cnt\", \"uid\", \"prec\", \"rec\", \"ndcg\", \"map\"]\n",
    "df_60_lrt = pd.read_csv(Path+\"lrt_top_20_60.txt\", sep = \"\\t\", header = None)\n",
    "df_60_lrt.columns = [\"cnt\", \"uid\", \"prec\", \"rec\", \"ndcg\", \"map\"]\n",
    "df_40_lrt = pd.read_csv(Path+\"lrt_top_20_40.txt\", sep = \"\\t\", header = None)\n",
    "df_40_lrt.columns = [\"cnt\", \"uid\", \"prec\", \"rec\", \"ndcg\", \"map\"]"
   ]
  },
  {
   "cell_type": "code",
   "execution_count": 169,
   "metadata": {},
   "outputs": [],
   "source": [
    "ex2 = pd.DataFrame(columns = [\"visited\",\"STACP-nDCG\", \"STACP-map\", \"STACP-rec\", \"STACP-prec\",\"STACP-noTC-nDCG\", \"STACP-noTC-map\", \"STACP-noTC-rec\", \"STACP-noTC-prec\",\"STACP-noCTX-nDCG\", \"STACP-noCTX-map\", \"STACP-noCTX-rec\", \"STACP-noCTX-prec\",\"LRT-nDCG\", \"LRT-map\", \"LRT-rec\", \"LRT-prec\"]) \n",
    "ex2 = ex2.append({'visited':40,'STACP-nDCG':df_40[\"ndcg\"].mean(),  'STACP-map':df_40[\"map\"].mean(),  'STACP-rec':df_40[\"rec\"].mean(),  'STACP-prec':df_40[\"prec\"].mean(),'STACP-noCTX-nDCG':df_40_noctx[\"ndcg\"].mean(),  'STACP-noCTX-map':df_40[\"map\"].mean(),  'STACP-noCTX-rec':df_40[\"rec\"].mean(),  'STACP-noCTX-prec':df_40[\"prec\"].mean(),'STACP-noTC-nDCG':df_40_noTC[\"ndcg\"].mean(),  'STACP-noTC-map':df_40[\"map\"].mean(),  'STACP-noTC-rec':df_40[\"rec\"].mean(),  'STACP-noTC-prec':df_40[\"prec\"].mean(),'LRT-nDCG':df_40_lrt[\"ndcg\"].mean(),  'LRT-map':df_40_lrt[\"map\"].mean(),  'LRT-rec':df_40_lrt[\"rec\"].mean(),  'LRT-prec':df_40_lrt[\"prec\"].mean()}, ignore_index=True)\n",
    "ex2 = ex2.append({'visited':60,'STACP-nDCG':df_60[\"ndcg\"].mean(),  'STACP-map':df_60[\"map\"].mean(),  'STACP-rec':df_60[\"rec\"].mean(),  'STACP-prec':df_60[\"prec\"].mean(),'STACP-noCTX-nDCG':df_60_noctx[\"ndcg\"].mean(),  'STACP-noCTX-map':df_60[\"map\"].mean(),  'STACP-noCTX-rec':df_60[\"rec\"].mean(),  'STACP-noCTX-prec':df_60[\"prec\"].mean(),'STACP-noTC-nDCG':df_60_noTC[\"ndcg\"].mean(),  'STACP-noTC-map':df_60[\"map\"].mean(),  'STACP-noTC-rec':df_60[\"rec\"].mean(),  'STACP-noTC-prec':df_60[\"prec\"].mean(),'LRT-nDCG':df_60_lrt[\"ndcg\"].mean(),  'LRT-map':df_60_lrt[\"map\"].mean(),  'LRT-rec':df_60_lrt[\"rec\"].mean(),  'LRT-prec':df_60_lrt[\"prec\"].mean()}, ignore_index=True)\n",
    "ex2 = ex2.append({'visited':80,'STACP-nDCG':df_80[\"ndcg\"].mean(),  'STACP-map':df_80[\"map\"].mean(),  'STACP-rec':df_80[\"rec\"].mean(),  'STACP-prec':df_80[\"prec\"].mean(),'STACP-noCTX-nDCG':df_80_noctx[\"ndcg\"].mean(),  'STACP-noCTX-map':df_80[\"map\"].mean(),  'STACP-noCTX-rec':df_80[\"rec\"].mean(),  'STACP-noCTX-prec':df_80[\"prec\"].mean(),'STACP-noTC-nDCG':df_80_noTC[\"ndcg\"].mean(),  'STACP-noTC-map':df_80[\"map\"].mean(),  'STACP-noTC-rec':df_80[\"rec\"].mean(),  'STACP-noTC-prec':df_80[\"prec\"].mean(),'LRT-nDCG':df_80_lrt[\"ndcg\"].mean(),  'LRT-map':df_80_lrt[\"map\"].mean(),  'LRT-rec':df_80_lrt[\"rec\"].mean(),  'LRT-prec':df_80_lrt[\"prec\"].mean()}, ignore_index=True)\n",
    "ex2 = ex2.append({'visited':100,'STACP-nDCG':df_100[\"ndcg\"].mean(),  'STACP-map':df_100[\"map\"].mean(),  'STACP-rec':df_100[\"rec\"].mean(),  'STACP-prec':df_100[\"prec\"].mean(),'STACP-noCTX-nDCG':df_100_noctx[\"ndcg\"].mean(),  'STACP-noCTX-rec':df_100[\"rec\"].mean(),'STACP-noCTX-map':df_100[\"map\"].mean(),   'STACP-noCTX-prec':df_100[\"prec\"].mean(),'LRT-nDCG':df_100_lrt[\"ndcg\"].mean(), 'LRT-rec':df_100_lrt[\"rec\"].mean(),  'LRT-prec':df_100_lrt[\"prec\"].mean(),'STACP-noTC-nDCG':df_100_noTC[\"ndcg\"].mean(),  'STACP-noTC-map':df_100[\"map\"].mean(),  'STACP-noTC-rec':df_100[\"rec\"].mean(),  'STACP-noTC-prec':df_100[\"prec\"].mean()}, ignore_index=True)\n",
    "\n",
    "#}, ignore_index=True)\n",
    "\n",
    "#,'STACP-noCT-nDCG':df_100_noTC[\"ndcg\"].mean(),  'STACP-noCT-map':df_100[\"map\"].mean(),  'STACP-noCT-rec':df_100[\"rec\"].mean(),  'STACP-noCT-prec':df_100[\"prec\"].mean()}, ignore_index=True)\n",
    "\n",
    "#,'LRT-nDCG':df_100_lrt[\"ndcg\"].mean(),  'LRT-map':df_100_lrt[\"map\"].mean(),  'LRT-rec':df_100_lrt[\"rec\"].mean(),  'LRT-prec':df_100_lrt[\"prec\"].mean()}, ignore_index=True)\n"
   ]
  },
  {
   "cell_type": "code",
   "execution_count": 170,
   "metadata": {},
   "outputs": [
    {
     "data": {
      "text/html": [
       "<div>\n",
       "<style scoped>\n",
       "    .dataframe tbody tr th:only-of-type {\n",
       "        vertical-align: middle;\n",
       "    }\n",
       "\n",
       "    .dataframe tbody tr th {\n",
       "        vertical-align: top;\n",
       "    }\n",
       "\n",
       "    .dataframe thead th {\n",
       "        text-align: right;\n",
       "    }\n",
       "</style>\n",
       "<table border=\"1\" class=\"dataframe\">\n",
       "  <thead>\n",
       "    <tr style=\"text-align: right;\">\n",
       "      <th></th>\n",
       "      <th>visited</th>\n",
       "      <th>STACP-nDCG</th>\n",
       "      <th>STACP-map</th>\n",
       "      <th>STACP-rec</th>\n",
       "      <th>STACP-prec</th>\n",
       "      <th>STACP-noTC-nDCG</th>\n",
       "      <th>STACP-noTC-map</th>\n",
       "      <th>STACP-noTC-rec</th>\n",
       "      <th>STACP-noTC-prec</th>\n",
       "      <th>STACP-noCTX-nDCG</th>\n",
       "      <th>STACP-noCTX-map</th>\n",
       "      <th>STACP-noCTX-rec</th>\n",
       "      <th>STACP-noCTX-prec</th>\n",
       "      <th>LRT-nDCG</th>\n",
       "      <th>LRT-map</th>\n",
       "      <th>LRT-rec</th>\n",
       "      <th>LRT-prec</th>\n",
       "    </tr>\n",
       "  </thead>\n",
       "  <tbody>\n",
       "    <tr>\n",
       "      <th>0</th>\n",
       "      <td>40.0</td>\n",
       "      <td>0.028952</td>\n",
       "      <td>0.015974</td>\n",
       "      <td>0.053464</td>\n",
       "      <td>0.026457</td>\n",
       "      <td>0.017900</td>\n",
       "      <td>0.015974</td>\n",
       "      <td>0.053464</td>\n",
       "      <td>0.026457</td>\n",
       "      <td>0.003789</td>\n",
       "      <td>0.015974</td>\n",
       "      <td>0.053464</td>\n",
       "      <td>0.026457</td>\n",
       "      <td>0.002728</td>\n",
       "      <td>0.021740</td>\n",
       "      <td>0.021871</td>\n",
       "      <td>0.002914</td>\n",
       "    </tr>\n",
       "    <tr>\n",
       "      <th>1</th>\n",
       "      <td>60.0</td>\n",
       "      <td>0.031180</td>\n",
       "      <td>0.017743</td>\n",
       "      <td>0.058430</td>\n",
       "      <td>0.028483</td>\n",
       "      <td>0.018438</td>\n",
       "      <td>0.017743</td>\n",
       "      <td>0.058430</td>\n",
       "      <td>0.028483</td>\n",
       "      <td>0.010500</td>\n",
       "      <td>0.017743</td>\n",
       "      <td>0.058430</td>\n",
       "      <td>0.028483</td>\n",
       "      <td>0.015254</td>\n",
       "      <td>0.027080</td>\n",
       "      <td>0.030965</td>\n",
       "      <td>0.018674</td>\n",
       "    </tr>\n",
       "    <tr>\n",
       "      <th>2</th>\n",
       "      <td>80.0</td>\n",
       "      <td>0.034059</td>\n",
       "      <td>0.019537</td>\n",
       "      <td>0.062946</td>\n",
       "      <td>0.030792</td>\n",
       "      <td>0.021269</td>\n",
       "      <td>0.019537</td>\n",
       "      <td>0.062946</td>\n",
       "      <td>0.030792</td>\n",
       "      <td>0.014465</td>\n",
       "      <td>0.019537</td>\n",
       "      <td>0.062946</td>\n",
       "      <td>0.030792</td>\n",
       "      <td>0.014459</td>\n",
       "      <td>0.025747</td>\n",
       "      <td>0.030815</td>\n",
       "      <td>0.018017</td>\n",
       "    </tr>\n",
       "    <tr>\n",
       "      <th>3</th>\n",
       "      <td>100.0</td>\n",
       "      <td>0.036401</td>\n",
       "      <td>0.021671</td>\n",
       "      <td>0.066694</td>\n",
       "      <td>0.032578</td>\n",
       "      <td>0.025034</td>\n",
       "      <td>0.021671</td>\n",
       "      <td>0.066694</td>\n",
       "      <td>0.032578</td>\n",
       "      <td>0.018394</td>\n",
       "      <td>0.021671</td>\n",
       "      <td>0.066694</td>\n",
       "      <td>0.032578</td>\n",
       "      <td>0.017435</td>\n",
       "      <td>NaN</td>\n",
       "      <td>0.032579</td>\n",
       "      <td>0.019545</td>\n",
       "    </tr>\n",
       "  </tbody>\n",
       "</table>\n",
       "</div>"
      ],
      "text/plain": [
       "   visited  STACP-nDCG  STACP-map  STACP-rec  STACP-prec  STACP-noTC-nDCG  \\\n",
       "0     40.0    0.028952   0.015974   0.053464    0.026457         0.017900   \n",
       "1     60.0    0.031180   0.017743   0.058430    0.028483         0.018438   \n",
       "2     80.0    0.034059   0.019537   0.062946    0.030792         0.021269   \n",
       "3    100.0    0.036401   0.021671   0.066694    0.032578         0.025034   \n",
       "\n",
       "   STACP-noTC-map  STACP-noTC-rec  STACP-noTC-prec  STACP-noCTX-nDCG  \\\n",
       "0        0.015974        0.053464         0.026457          0.003789   \n",
       "1        0.017743        0.058430         0.028483          0.010500   \n",
       "2        0.019537        0.062946         0.030792          0.014465   \n",
       "3        0.021671        0.066694         0.032578          0.018394   \n",
       "\n",
       "   STACP-noCTX-map  STACP-noCTX-rec  STACP-noCTX-prec  LRT-nDCG   LRT-map  \\\n",
       "0         0.015974         0.053464          0.026457  0.002728  0.021740   \n",
       "1         0.017743         0.058430          0.028483  0.015254  0.027080   \n",
       "2         0.019537         0.062946          0.030792  0.014459  0.025747   \n",
       "3         0.021671         0.066694          0.032578  0.017435       NaN   \n",
       "\n",
       "    LRT-rec  LRT-prec  \n",
       "0  0.021871  0.002914  \n",
       "1  0.030965  0.018674  \n",
       "2  0.030815  0.018017  \n",
       "3  0.032579  0.019545  "
      ]
     },
     "execution_count": 170,
     "metadata": {},
     "output_type": "execute_result"
    }
   ],
   "source": [
    "ex2"
   ]
  },
  {
   "cell_type": "raw",
   "metadata": {},
   "source": [
    "print(\"decrease of nDCG: \",1-(float(ex2.loc[ex2[\"visited\"]==40, \"nDCG\"])/float(ex2.loc[ex2[\"visited\"]==100, \"nDCG\"])))\n",
    "print(\"decrease of map: \",1-(float(ex2.loc[ex2[\"visited\"]==40, \"map\"])/float(ex2.loc[ex2[\"visited\"]==100, \"map\"])))\n",
    "print(\"decrease of prec: \",1-(float(ex2.loc[ex2[\"visited\"]==40, \"prec\"])/float(ex2.loc[ex2[\"visited\"]==100, \"prec\"])))\n",
    "print(\"decrease of rec: \",1-(float(ex2.loc[ex2[\"visited\"]==40, \"rec\"])/float(ex2.loc[ex2[\"visited\"]==100, \"rec\"])))"
   ]
  },
  {
   "cell_type": "code",
   "execution_count": 171,
   "metadata": {},
   "outputs": [
    {
     "data": {
      "image/png": "[encoded data removed]",
      "text/plain": [
       "<Figure size 504x360 with 1 Axes>"
      ]
     },
     "metadata": {
      "needs_background": "light"
     },
     "output_type": "display_data"
    }
   ],
   "source": [
    "# create data \n",
    "x = np.arange(4) \n",
    "y1 = ex2[\"STACP-nDCG\"]\n",
    "y2 = ex2[\"STACP-noTC-nDCG\"]\n",
    "y3 = ex2[\"STACP-noCTX-nDCG\"]\n",
    "y4 = ex2[\"LRT-nDCG\"]\n",
    "width = 0.1\n",
    "  \n",
    "# plot data in grouped manner of bar type \n",
    "plt.figure(figsize=(7,5));\n",
    "plt.bar(x-0.15, y4, width, color='red') \n",
    "plt.bar(x+0.05, y2, width, color='orange') \n",
    "plt.bar(x-0.05, y3, width, color='green') \n",
    "plt.bar(x+0.15, y1, width, color='cyan') \n",
    "\n",
    "#plt.bar(x+0.15, y4, width, color='red') \n",
    "\n",
    "plt.xticks(x, ['40', '60','80', '100']) \n",
    "plt.legend([\"LRT\", \"STACP-noTC\", \"STACP-noCTX\", \"STACP\"], bbox_to_anchor=(1, 1.26),borderaxespad=0) \n",
    "plt.xlabel(\"Percentage of POIs each user has visited\") \n",
    "plt.ylabel(\"nDCG@20\") \n",
    "plt.grid(axis = 'y')\n",
    "plt.title(\"nDCG of different algorithms on sparcity levels\", loc = \"left\")\n",
    "plt.show() "
   ]
  },
  {
   "cell_type": "code",
   "execution_count": 150,
   "metadata": {},
   "outputs": [
    {
     "data": {
      "image/png": "[encoded data removed]",
      "text/plain": [
       "<Figure size 504x360 with 1 Axes>"
      ]
     },
     "metadata": {
      "needs_background": "light"
     },
     "output_type": "display_data"
    }
   ],
   "source": [
    "# create data \n",
    "x = np.arange(4) \n",
    "y1 = ex2[\"STACP-map\"]\n",
    "y2 = ex2[\"STACP-noTC-map\"]\n",
    "y3 = ex2[\"STACP-noCTX-nDCG\"]\n",
    "y4 = ex2[\"LRT-nDCG\"]\n",
    "width = 0.1\n",
    "  \n",
    "# plot data in grouped manner of bar type \n",
    "plt.figure(figsize=(7,5));\n",
    "plt.bar(x-0.15, y4, width, color='red') \n",
    "plt.bar(x+0.05, y2, width, color='orange') \n",
    "plt.bar(x-0.05, y3, width, color='green') \n",
    "plt.bar(x+0.15, y1, width, color='cyan') \n",
    "\n",
    "#plt.bar(x+0.15, y4, width, color='red') \n",
    "\n",
    "plt.xticks(x, ['40', '60','80', '100']) \n",
    "plt.legend([\"LRT\", \"STACP-noTC\", \"STACP-noCTX\", \"STACP\"], bbox_to_anchor=(1, 1.26),borderaxespad=0) \n",
    "plt.xlabel(\"Percentage of POIs each user has visited\") \n",
    "plt.ylabel(\"nDCG@20\") \n",
    "plt.grid(axis = 'y')\n",
    "plt.title(\"nDCG of different algorithms on sparcity levels\", loc = \"left\")\n",
    "plt.show() "
   ]
  },
  {
   "cell_type": "code",
   "execution_count": 96,
   "metadata": {},
   "outputs": [
    {
     "data": {
      "text/plain": [
       "cnt     2813.500000\n",
       "uid     2813.500000\n",
       "prec       0.039250\n",
       "rec        0.041841\n",
       "ndcg       0.041720\n",
       "map        0.021783\n",
       "dtype: float64"
      ]
     },
     "execution_count": 96,
     "metadata": {},
     "output_type": "execute_result"
    }
   ],
   "source": [
    "df_100.mean()"
   ]
  },
  {
   "cell_type": "code",
   "execution_count": 18,
   "metadata": {},
   "outputs": [
    {
     "name": "stdout",
     "output_type": "stream",
     "text": [
      "Ttest_1sampResult(statistic=26.13188265167397, pvalue=3.586215542013316e-142)\n",
      "Ttest_1sampResult(statistic=24.996222490347336, pvalue=7.376677438656684e-131)\n",
      "Ttest_1sampResult(statistic=34.82950904126524, pvalue=7.225210493794448e-241)\n"
     ]
    }
   ],
   "source": [
    "print(stats.ttest_1samp(df_100[\"prec\"],0.0146))\n",
    "print(stats.ttest_1samp(df_100[\"rec\"],0.0270))\n",
    "print(stats.ttest_1samp(df_100[\"ndcg\"],0.0079))"
   ]
  },
  {
   "cell_type": "code",
   "execution_count": 62,
   "metadata": {},
   "outputs": [
    {
     "data": {
      "text/plain": [
       "Ttest_indResult(statistic=-2.0308510873860532, pvalue=0.042293562349607156)"
      ]
     },
     "execution_count": 62,
     "metadata": {},
     "output_type": "execute_result"
    }
   ],
   "source": [
    "stats.ttest_ind(df_40[\"map\"], df_60[\"map\"])"
   ]
  },
  {
   "cell_type": "code",
   "execution_count": 251,
   "metadata": {},
   "outputs": [],
   "source": []
  },
  {
   "cell_type": "code",
   "execution_count": null,
   "metadata": {},
   "outputs": [],
   "source": []
  }
 ],
 "metadata": {
  "kernelspec": {
   "display_name": "Python 3",
   "language": "python",
   "name": "python3"
  },
  "language_info": {
   "codemirror_mode": {
    "name": "ipython",
    "version": 3
   },
   "file_extension": ".py",
   "mimetype": "text/x-python",
   "name": "python",
   "nbconvert_exporter": "python",
   "pygments_lexer": "ipython3",
   "version": "3.8.5"
  }
 },
 "nbformat": 4,
 "nbformat_minor": 4
}
