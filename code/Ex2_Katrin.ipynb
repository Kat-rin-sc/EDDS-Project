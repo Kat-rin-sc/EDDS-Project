{
 "cells": [
  {
   "cell_type": "markdown",
   "metadata": {},
   "source": [
    "## Experiment 2 - influence of percentage visited per user on nDCG"
   ]
  },
  {
   "cell_type": "code",
   "execution_count": 2,
   "metadata": {},
   "outputs": [],
   "source": [
    "import pandas as pd\n",
    "import numpy as np\n",
    "import matplotlib.pyplot as plt\n",
    "import seaborn as sns\n",
    "from pandas.plotting import parallel_coordinates\n",
    "from sklearn.decomposition import PCA\n",
    "from sklearn.preprocessing import StandardScaler"
   ]
  },
  {
   "cell_type": "code",
   "execution_count": 8,
   "metadata": {},
   "outputs": [],
   "source": [
    "Path = \"../result_gowalla/result_full Dataset/\"\n",
    "ds = \"gowalla\"\n",
    "alg = \"STACP\"\n",
    "df_100 = pd.read_csv(Path+\"result_top_20_100.txt\", sep = \"\\t\", header = None)\n",
    "df_100.columns = [\"cnt\", \"uid\", \"prec\", \"rec\", \"ndcg\", \"map\"]\n",
    "# df_80 = pd.read_csv(Path+\"result_top_20_80.txt\", sep = \"\\t\", header = None)\n",
    "# df_80.columns = [\"cnt\", \"uid\", \"prec\", \"rec\", \"ndcg\", \"map\"]\n",
    "df_60 = pd.read_csv(Path+\"result_top_20_60.txt\", sep = \"\\t\", header = None)\n",
    "df_60.columns = [\"cnt\", \"uid\", \"prec\", \"rec\", \"ndcg\", \"map\"]\n",
    "# df_40 = pd.read_csv(Path+\"result_top_20_40.txt\", sep = \"\\t\", header = None)\n",
    "# df_40.columns = [\"cnt\", \"uid\", \"prec\", \"rec\", \"ndcg\", \"map\"]"
   ]
  },
  {
   "cell_type": "code",
   "execution_count": 9,
   "metadata": {},
   "outputs": [],
   "source": [
    "ex2 = pd.DataFrame(columns = [\"dataset\",\"algorithm\", \"visited\",\"nDCG\"]) \n",
    "#ex2 = ex2.append({'dataset':ds,'algorithm': alg, 'visited':40, 'nDCG':df_40[\"ndcg\"].mean()}, ignore_index=True)\n",
    "ex2 = ex2.append({'dataset':ds,\"algorithm\": alg, 'visited':60, 'nDCG':df_60[\"ndcg\"].mean()}, ignore_index=True)\n",
    "#ex2 = ex2.append({'dataset':ds,\"algorithm\": alg, 'visited':80, 'nDCG':df_80[\"ndcg\"].mean()}, ignore_index=True)\n",
    "ex2 = ex2.append({'dataset':ds,\"algorithm\": alg, 'visited':100, 'nDCG':df_100[\"ndcg\"].mean()}, ignore_index=True)"
   ]
  },
  {
   "cell_type": "code",
   "execution_count": 10,
   "metadata": {},
   "outputs": [
    {
     "data": {
      "text/html": [
       "<div>\n",
       "<style scoped>\n",
       "    .dataframe tbody tr th:only-of-type {\n",
       "        vertical-align: middle;\n",
       "    }\n",
       "\n",
       "    .dataframe tbody tr th {\n",
       "        vertical-align: top;\n",
       "    }\n",
       "\n",
       "    .dataframe thead th {\n",
       "        text-align: right;\n",
       "    }\n",
       "</style>\n",
       "<table border=\"1\" class=\"dataframe\">\n",
       "  <thead>\n",
       "    <tr style=\"text-align: right;\">\n",
       "      <th></th>\n",
       "      <th>dataset</th>\n",
       "      <th>algorithm</th>\n",
       "      <th>visited</th>\n",
       "      <th>nDCG</th>\n",
       "    </tr>\n",
       "  </thead>\n",
       "  <tbody>\n",
       "    <tr>\n",
       "      <th>0</th>\n",
       "      <td>gowalla</td>\n",
       "      <td>STACP</td>\n",
       "      <td>60</td>\n",
       "      <td>0.031180</td>\n",
       "    </tr>\n",
       "    <tr>\n",
       "      <th>1</th>\n",
       "      <td>gowalla</td>\n",
       "      <td>STACP</td>\n",
       "      <td>100</td>\n",
       "      <td>0.036401</td>\n",
       "    </tr>\n",
       "  </tbody>\n",
       "</table>\n",
       "</div>"
      ],
      "text/plain": [
       "   dataset algorithm visited      nDCG\n",
       "0  gowalla     STACP      60  0.031180\n",
       "1  gowalla     STACP     100  0.036401"
      ]
     },
     "execution_count": 10,
     "metadata": {},
     "output_type": "execute_result"
    }
   ],
   "source": [
    "ex2"
   ]
  },
  {
   "cell_type": "code",
   "execution_count": 13,
   "metadata": {},
   "outputs": [
    {
     "data": {
      "image/png": "[encoded data removed]",
      "text/plain": [
       "<Figure size 432x288 with 1 Axes>"
      ]
     },
     "metadata": {
      "needs_background": "light"
     },
     "output_type": "display_data"
    }
   ],
   "source": [
    "# create data \n",
    "x = np.arange(2) \n",
    "y1 = ex2.nDCG\n",
    "y2 = ex2.nDCG\n",
    "y3 = ex2.nDCG\n",
    "width = 0.2\n",
    "  \n",
    "# plot data in grouped manner of bar type \n",
    "plt.bar(x-0.2, y1, width, color='cyan') \n",
    "plt.bar(x, y2, width, color='orange') \n",
    "plt.bar(x+0.2, y3, width, color='green') \n",
    "plt.xticks(x, [ '60', '100']) \n",
    "plt.legend([\"STACP\", \"Round 2\", \"Round 3\"]) \n",
    "plt.xlabel(\"Teams\") \n",
    "plt.ylabel(\"Scores\") \n",
    "plt.show() "
   ]
  },
  {
   "cell_type": "code",
   "execution_count": 14,
   "metadata": {},
   "outputs": [
    {
     "data": {
      "text/plain": [
       "cnt     2813.500000\n",
       "uid     2813.500000\n",
       "prec       0.032578\n",
       "rec        0.066694\n",
       "ndcg       0.036401\n",
       "map        0.021671\n",
       "dtype: float64"
      ]
     },
     "execution_count": 14,
     "metadata": {},
     "output_type": "execute_result"
    }
   ],
   "source": [
    "df_100.mean()"
   ]
  },
  {
   "cell_type": "code",
   "execution_count": 157,
   "metadata": {},
   "outputs": [
    {
     "data": {
      "text/plain": [
       "0.040920421588774174"
      ]
     },
     "execution_count": 157,
     "metadata": {},
     "output_type": "execute_result"
    }
   ],
   "source": [
    "df[\"ndcg\"].mean()"
   ]
  },
  {
   "cell_type": "code",
   "execution_count": 251,
   "metadata": {},
   "outputs": [],
   "source": [
    "train_file = \"Gowalla_train.txt\"\n",
    "train_data = pd.read_csv(train_file, sep = \"\\t\", header = None)\n",
    "train_data.columns = [\"uid\", \"lid\", \"freq\"]\n",
    "perc = 0.8\n",
    "new_train = pd.DataFrame()        \n"
   ]
  },
  {
   "cell_type": "code",
   "execution_count": 252,
   "metadata": {},
   "outputs": [],
   "source": [
    "\n",
    "for i in train_data.uid.unique():\n",
    "    new_train = new_train.append(train_data.loc[train_data[\"uid\"]==i].iloc[:int(np.round(len(train_data.loc[train_data[\"uid\"]==i])*perc))])"
   ]
  },
  {
   "cell_type": "code",
   "execution_count": 249,
   "metadata": {},
   "outputs": [
    {
     "data": {
      "text/html": [
       "<div>\n",
       "<style scoped>\n",
       "    .dataframe tbody tr th:only-of-type {\n",
       "        vertical-align: middle;\n",
       "    }\n",
       "\n",
       "    .dataframe tbody tr th {\n",
       "        vertical-align: top;\n",
       "    }\n",
       "\n",
       "    .dataframe thead th {\n",
       "        text-align: right;\n",
       "    }\n",
       "</style>\n",
       "<table border=\"1\" class=\"dataframe\">\n",
       "  <thead>\n",
       "    <tr style=\"text-align: right;\">\n",
       "      <th></th>\n",
       "      <th>uid</th>\n",
       "      <th>lid</th>\n",
       "      <th>freq</th>\n",
       "    </tr>\n",
       "  </thead>\n",
       "  <tbody>\n",
       "    <tr>\n",
       "      <th>0</th>\n",
       "      <td>0</td>\n",
       "      <td>1</td>\n",
       "      <td>28</td>\n",
       "    </tr>\n",
       "    <tr>\n",
       "      <th>1</th>\n",
       "      <td>0</td>\n",
       "      <td>2</td>\n",
       "      <td>2</td>\n",
       "    </tr>\n",
       "    <tr>\n",
       "      <th>2</th>\n",
       "      <td>0</td>\n",
       "      <td>6</td>\n",
       "      <td>14</td>\n",
       "    </tr>\n",
       "    <tr>\n",
       "      <th>3</th>\n",
       "      <td>0</td>\n",
       "      <td>7</td>\n",
       "      <td>2</td>\n",
       "    </tr>\n",
       "    <tr>\n",
       "      <th>4</th>\n",
       "      <td>0</td>\n",
       "      <td>32</td>\n",
       "      <td>7</td>\n",
       "    </tr>\n",
       "    <tr>\n",
       "      <th>...</th>\n",
       "      <td>...</td>\n",
       "      <td>...</td>\n",
       "      <td>...</td>\n",
       "    </tr>\n",
       "    <tr>\n",
       "      <th>262703</th>\n",
       "      <td>5627</td>\n",
       "      <td>5068</td>\n",
       "      <td>1</td>\n",
       "    </tr>\n",
       "    <tr>\n",
       "      <th>262704</th>\n",
       "      <td>5627</td>\n",
       "      <td>2706</td>\n",
       "      <td>1</td>\n",
       "    </tr>\n",
       "    <tr>\n",
       "      <th>262705</th>\n",
       "      <td>5627</td>\n",
       "      <td>11022</td>\n",
       "      <td>1</td>\n",
       "    </tr>\n",
       "    <tr>\n",
       "      <th>262706</th>\n",
       "      <td>5627</td>\n",
       "      <td>14557</td>\n",
       "      <td>1</td>\n",
       "    </tr>\n",
       "    <tr>\n",
       "      <th>262707</th>\n",
       "      <td>5627</td>\n",
       "      <td>5080</td>\n",
       "      <td>1</td>\n",
       "    </tr>\n",
       "  </tbody>\n",
       "</table>\n",
       "<p>157760 rows × 3 columns</p>\n",
       "</div>"
      ],
      "text/plain": [
       "         uid    lid  freq\n",
       "0          0      1    28\n",
       "1          0      2     2\n",
       "2          0      6    14\n",
       "3          0      7     2\n",
       "4          0     32     7\n",
       "...      ...    ...   ...\n",
       "262703  5627   5068     1\n",
       "262704  5627   2706     1\n",
       "262705  5627  11022     1\n",
       "262706  5627  14557     1\n",
       "262707  5627   5080     1\n",
       "\n",
       "[157760 rows x 3 columns]"
      ]
     },
     "execution_count": 249,
     "metadata": {},
     "output_type": "execute_result"
    }
   ],
   "source": [
    "new_train"
   ]
  },
  {
   "cell_type": "code",
   "execution_count": 253,
   "metadata": {},
   "outputs": [],
   "source": [
    "new_train.to_csv(\"train_80.txt\", sep = \"\\t\", header = False, index = False)"
   ]
  },
  {
   "cell_type": "code",
   "execution_count": null,
   "metadata": {},
   "outputs": [],
   "source": []
  }
 ],
 "metadata": {
  "kernelspec": {
   "display_name": "Python 3",
   "language": "python",
   "name": "python3"
  },
  "language_info": {
   "codemirror_mode": {
    "name": "ipython",
    "version": 3
   },
   "file_extension": ".py",
   "mimetype": "text/x-python",
   "name": "python",
   "nbconvert_exporter": "python",
   "pygments_lexer": "ipython3",
   "version": "3.8.5"
  }
 },
 "nbformat": 4,
 "nbformat_minor": 4
}
