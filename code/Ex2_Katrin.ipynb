{
 "cells": [
  {
   "cell_type": "markdown",
   "metadata": {},
   "source": [
    "## Experiment 2 - influence of percentage visited per user on nDCG"
   ]
  },
  {
   "cell_type": "code",
   "execution_count": 15,
   "metadata": {},
   "outputs": [],
   "source": [
    "import pandas as pd\n",
    "import numpy as np\n",
    "import matplotlib.pyplot as plt\n",
    "import seaborn as sns\n",
    "from pandas.plotting import parallel_coordinates\n",
    "from sklearn.decomposition import PCA\n",
    "from sklearn.preprocessing import StandardScaler\n",
    "from scipy.stats import norm\n",
    "from scipy import stats"
   ]
  },
  {
   "cell_type": "code",
   "execution_count": 95,
   "metadata": {},
   "outputs": [],
   "source": [
    "Path = \"../results/result_full Dataset_Ex2/\"\n",
    "ds = \"gowalla\"\n",
    "alg = \"STACP\"\n",
    "df_100 = pd.read_csv(Path+\"result_top_10.txt\", sep = \"\\t\", header = None)\n",
    "df_100.columns = [\"cnt\", \"uid\", \"prec\", \"rec\", \"ndcg\", \"map\"]\n",
    "df_80 = pd.read_csv(Path+\"result_top_20_80.txt\", sep = \"\\t\", header = None)\n",
    "df_80.columns = [\"cnt\", \"uid\", \"prec\", \"rec\", \"ndcg\", \"map\"]\n",
    "df_60 = pd.read_csv(Path+\"result_top_20_60.txt\", sep = \"\\t\", header = None)\n",
    "df_60.columns = [\"cnt\", \"uid\", \"prec\", \"rec\", \"ndcg\", \"map\"]\n",
    "df_40 = pd.read_csv(Path+\"result_top_20_40.txt\", sep = \"\\t\", header = None)\n",
    "df_40.columns = [\"cnt\", \"uid\", \"prec\", \"rec\", \"ndcg\", \"map\"]"
   ]
  },
  {
   "cell_type": "code",
   "execution_count": 71,
   "metadata": {},
   "outputs": [],
   "source": [
    "ex2 = pd.DataFrame(columns = [\"dataset\",\"algorithm\", \"visited\",\"nDCG\", \"map\", \"rec\", \"prec\"]) \n",
    "ex2 = ex2.append({'dataset':ds,'algorithm': alg, 'visited':40,'nDCG':df_40[\"ndcg\"].mean(),  'map':df_40[\"map\"].mean(),  'rec':df_40[\"rec\"].mean(),  'prec':df_40[\"prec\"].mean()}, ignore_index=True)\n",
    "ex2 = ex2.append({'dataset':ds,'algorithm': alg, 'visited':60,'nDCG':df_60[\"ndcg\"].mean(),  'map':df_60[\"map\"].mean(),  'rec':df_60[\"rec\"].mean(),  'prec':df_60[\"prec\"].mean()}, ignore_index=True)\n",
    "ex2 = ex2.append({'dataset':ds,'algorithm': alg, 'visited':80,'nDCG':df_80[\"ndcg\"].mean(),  'map':df_80[\"map\"].mean(),  'rec':df_80[\"rec\"].mean(),  'prec':df_80[\"prec\"].mean()}, ignore_index=True)\n",
    "ex2 = ex2.append({'dataset':ds,'algorithm': alg, 'visited':100,'nDCG':df_100[\"ndcg\"].mean(),  'map':df_100[\"map\"].mean(),  'rec':df_100[\"rec\"].mean(),  'prec':df_100[\"prec\"].mean()}, ignore_index=True)\n"
   ]
  },
  {
   "cell_type": "code",
   "execution_count": 82,
   "metadata": {},
   "outputs": [
    {
     "data": {
      "text/html": [
       "<div>\n",
       "<style scoped>\n",
       "    .dataframe tbody tr th:only-of-type {\n",
       "        vertical-align: middle;\n",
       "    }\n",
       "\n",
       "    .dataframe tbody tr th {\n",
       "        vertical-align: top;\n",
       "    }\n",
       "\n",
       "    .dataframe thead th {\n",
       "        text-align: right;\n",
       "    }\n",
       "</style>\n",
       "<table border=\"1\" class=\"dataframe\">\n",
       "  <thead>\n",
       "    <tr style=\"text-align: right;\">\n",
       "      <th></th>\n",
       "      <th>prec</th>\n",
       "      <th>rec</th>\n",
       "      <th>nDCG</th>\n",
       "      <th>map</th>\n",
       "    </tr>\n",
       "  </thead>\n",
       "  <tbody>\n",
       "    <tr>\n",
       "      <th>0</th>\n",
       "      <td>0.026457</td>\n",
       "      <td>0.053464</td>\n",
       "      <td>0.028952</td>\n",
       "      <td>0.015974</td>\n",
       "    </tr>\n",
       "    <tr>\n",
       "      <th>1</th>\n",
       "      <td>0.028483</td>\n",
       "      <td>0.058430</td>\n",
       "      <td>0.031180</td>\n",
       "      <td>0.017743</td>\n",
       "    </tr>\n",
       "    <tr>\n",
       "      <th>2</th>\n",
       "      <td>0.030792</td>\n",
       "      <td>0.062946</td>\n",
       "      <td>0.034059</td>\n",
       "      <td>0.019537</td>\n",
       "    </tr>\n",
       "    <tr>\n",
       "      <th>3</th>\n",
       "      <td>0.032578</td>\n",
       "      <td>0.066694</td>\n",
       "      <td>0.036401</td>\n",
       "      <td>0.021671</td>\n",
       "    </tr>\n",
       "  </tbody>\n",
       "</table>\n",
       "</div>"
      ],
      "text/plain": [
       "       prec       rec      nDCG       map\n",
       "0  0.026457  0.053464  0.028952  0.015974\n",
       "1  0.028483  0.058430  0.031180  0.017743\n",
       "2  0.030792  0.062946  0.034059  0.019537\n",
       "3  0.032578  0.066694  0.036401  0.021671"
      ]
     },
     "execution_count": 82,
     "metadata": {},
     "output_type": "execute_result"
    }
   ],
   "source": [
    "ex2[[\"prec\", \"rec\", \"nDCG\", \"map\"]]"
   ]
  },
  {
   "cell_type": "code",
   "execution_count": 73,
   "metadata": {},
   "outputs": [
    {
     "name": "stdout",
     "output_type": "stream",
     "text": [
      "decrease of nDCG:  0.20462148896578147\n",
      "decrease of map:  0.26288730450979614\n",
      "decrease of prec:  0.18789200981730259\n",
      "decrease of rec:  0.19837540291666433\n"
     ]
    }
   ],
   "source": [
    "print(\"decrease of nDCG: \",1-(float(ex2.loc[ex2[\"visited\"]==40, \"nDCG\"])/float(ex2.loc[ex2[\"visited\"]==100, \"nDCG\"])))\n",
    "print(\"decrease of map: \",1-(float(ex2.loc[ex2[\"visited\"]==40, \"map\"])/float(ex2.loc[ex2[\"visited\"]==100, \"map\"])))\n",
    "print(\"decrease of prec: \",1-(float(ex2.loc[ex2[\"visited\"]==40, \"prec\"])/float(ex2.loc[ex2[\"visited\"]==100, \"prec\"])))\n",
    "print(\"decrease of rec: \",1-(float(ex2.loc[ex2[\"visited\"]==40, \"rec\"])/float(ex2.loc[ex2[\"visited\"]==100, \"rec\"])))"
   ]
  },
  {
   "cell_type": "code",
   "execution_count": 93,
   "metadata": {},
   "outputs": [
    {
     "data": {
      "image/png": "[encoded data removed]",
      "text/plain": [
       "<Figure size 504x360 with 1 Axes>"
      ]
     },
     "metadata": {
      "needs_background": "light"
     },
     "output_type": "display_data"
    }
   ],
   "source": [
    "# create data \n",
    "x = np.arange(4) \n",
    "y1 = ex2.nDCG\n",
    "y2 = ex2.map\n",
    "y3 = ex2.prec\n",
    "y4 = ex2.rec\n",
    "width = 0.1\n",
    "  \n",
    "# plot data in grouped manner of bar type \n",
    "plt.figure(figsize=(7,5));\n",
    "\n",
    "plt.bar(x-0.1, y2, width, color='orange') \n",
    "plt.bar(x, y3, width, color='green') \n",
    "plt.bar(x+0.1, y1, width, color='cyan') \n",
    "\n",
    "#plt.bar(x+0.15, y4, width, color='red') \n",
    "\n",
    "plt.xticks(x, ['40', '60','80', '100']) \n",
    "plt.legend([\"STACP_nDCG\", \"STACP_mAP\", \"STACP_precision\", \"STACP_recall\"], bbox_to_anchor=(1, 1.26),borderaxespad=0) \n",
    "plt.xlabel(\"Percentage of POIs each user has visited\") \n",
    "plt.ylabel(\"nDCG@20\") \n",
    "plt.grid(axis = 'y')\n",
    "plt.title(\"Performance metrics on sparcity levels\", loc = \"left\")\n",
    "plt.show() "
   ]
  },
  {
   "cell_type": "code",
   "execution_count": 96,
   "metadata": {},
   "outputs": [
    {
     "data": {
      "text/plain": [
       "cnt     2813.500000\n",
       "uid     2813.500000\n",
       "prec       0.039250\n",
       "rec        0.041841\n",
       "ndcg       0.041720\n",
       "map        0.021783\n",
       "dtype: float64"
      ]
     },
     "execution_count": 96,
     "metadata": {},
     "output_type": "execute_result"
    }
   ],
   "source": [
    "df_100.mean()"
   ]
  },
  {
   "cell_type": "code",
   "execution_count": 18,
   "metadata": {},
   "outputs": [
    {
     "name": "stdout",
     "output_type": "stream",
     "text": [
      "Ttest_1sampResult(statistic=26.13188265167397, pvalue=3.586215542013316e-142)\n",
      "Ttest_1sampResult(statistic=24.996222490347336, pvalue=7.376677438656684e-131)\n",
      "Ttest_1sampResult(statistic=34.82950904126524, pvalue=7.225210493794448e-241)\n"
     ]
    }
   ],
   "source": [
    "print(stats.ttest_1samp(df_100[\"prec\"],0.0146))\n",
    "print(stats.ttest_1samp(df_100[\"rec\"],0.0270))\n",
    "print(stats.ttest_1samp(df_100[\"ndcg\"],0.0079))"
   ]
  },
  {
   "cell_type": "code",
   "execution_count": 62,
   "metadata": {},
   "outputs": [
    {
     "data": {
      "text/plain": [
       "Ttest_indResult(statistic=-2.0308510873860532, pvalue=0.042293562349607156)"
      ]
     },
     "execution_count": 62,
     "metadata": {},
     "output_type": "execute_result"
    }
   ],
   "source": [
    "stats.ttest_ind(df_40[\"map\"], df_60[\"map\"])"
   ]
  },
  {
   "cell_type": "code",
   "execution_count": 251,
   "metadata": {},
   "outputs": [],
   "source": []
  },
  {
   "cell_type": "code",
   "execution_count": null,
   "metadata": {},
   "outputs": [],
   "source": []
  }
 ],
 "metadata": {
  "kernelspec": {
   "display_name": "Python 3",
   "language": "python",
   "name": "python3"
  },
  "language_info": {
   "codemirror_mode": {
    "name": "ipython",
    "version": 3
   },
   "file_extension": ".py",
   "mimetype": "text/x-python",
   "name": "python",
   "nbconvert_exporter": "python",
   "pygments_lexer": "ipython3",
   "version": "3.8.5"
  }
 },
 "nbformat": 4,
 "nbformat_minor": 4
}
