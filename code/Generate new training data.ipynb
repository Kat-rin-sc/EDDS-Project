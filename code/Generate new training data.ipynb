{
 "cells": [
  {
   "cell_type": "markdown",
   "metadata": {},
   "source": [
    "For Experiment 2, we have to generate new training data by only including a certain percentage of Location IDs visited by each user."
   ]
  },
  {
   "cell_type": "code",
   "execution_count": 1,
   "metadata": {},
   "outputs": [],
   "source": [
    "import pandas as pd\n",
    "import numpy as np\n",
    "import matplotlib.pyplot as plt\n",
    "import seaborn as sns\n",
    "from pandas.plotting import parallel_coordinates\n",
    "from sklearn.decomposition import PCA\n",
    "from sklearn.preprocessing import StandardScaler\n",
    "from scipy.stats import norm\n",
    "from scipy import stats"
   ]
  },
  {
   "cell_type": "code",
   "execution_count": 2,
   "metadata": {},
   "outputs": [],
   "source": [
    "train_file = \"Gowalla_train.txt\"\n",
    "train_data = pd.read_csv(train_file, sep = \"\\t\", header = None)\n",
    "train_data.columns = [\"uid\", \"lid\", \"freq\"]\n",
    "       \n"
   ]
  },
  {
   "cell_type": "code",
   "execution_count": 3,
   "metadata": {},
   "outputs": [],
   "source": [
    "perc = 0.4\n",
    "new_train = pd.DataFrame() \n",
    "for i in train_data.uid.unique():\n",
    "    new_train = new_train.append(train_data.loc[train_data[\"uid\"]==i].iloc[:int(np.round(len(train_data.loc[train_data[\"uid\"]==i])*perc))])\n",
    "new_train.to_csv(\"train_40.txt\", sep = \"\\t\", header = False, index = False)"
   ]
  },
  {
   "cell_type": "code",
   "execution_count": null,
   "metadata": {},
   "outputs": [],
   "source": [
    "perc = 0.6\n",
    "new_train = pd.DataFrame() \n",
    "for i in train_data.uid.unique():\n",
    "    new_train = new_train.append(train_data.loc[train_data[\"uid\"]==i].iloc[:int(np.round(len(train_data.loc[train_data[\"uid\"]==i])*perc))])\n",
    "new_train.to_csv(\"train_60.txt\", sep = \"\\t\", header = False, index = False)"
   ]
  },
  {
   "cell_type": "code",
   "execution_count": null,
   "metadata": {},
   "outputs": [],
   "source": [
    "perc = 0.8\n",
    "new_train = pd.DataFrame() \n",
    "for i in train_data.uid.unique():\n",
    "    new_train = new_train.append(train_data.loc[train_data[\"uid\"]==i].iloc[:int(np.round(len(train_data.loc[train_data[\"uid\"]==i])*perc))])\n",
    "new_train.to_csv(\"train_80.txt\", sep = \"\\t\", header = False, index = False)"
   ]
  }
 ],
 "metadata": {
  "kernelspec": {
   "display_name": "Python 3",
   "language": "python",
   "name": "python3"
  },
  "language_info": {
   "codemirror_mode": {
    "name": "ipython",
    "version": 3
   },
   "file_extension": ".py",
   "mimetype": "text/x-python",
   "name": "python",
   "nbconvert_exporter": "python",
   "pygments_lexer": "ipython3",
   "version": "3.8.5"
  }
 },
 "nbformat": 4,
 "nbformat_minor": 4
}
